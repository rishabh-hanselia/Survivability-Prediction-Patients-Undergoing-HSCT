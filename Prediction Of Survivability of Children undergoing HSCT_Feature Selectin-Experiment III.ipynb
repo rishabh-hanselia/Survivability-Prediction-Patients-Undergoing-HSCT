{
 "cells": [
  {
   "cell_type": "markdown",
   "id": "321ffb58",
   "metadata": {},
   "source": [
    "##    \n",
    "# Prediction Of Survivability of Children undergoing HSCT - Experiment III\n",
    "##   "
   ]
  },
  {
   "cell_type": "markdown",
   "id": "874e4dc1",
   "metadata": {},
   "source": [
    "###  \n",
    "## Importing Required Libraries\n",
    "###  "
   ]
  },
  {
   "cell_type": "code",
   "execution_count": 2042,
   "id": "d5ca72a9",
   "metadata": {},
   "outputs": [],
   "source": [
    "import warnings\n",
    "warnings.filterwarnings(\"ignore\")\n",
    "import numpy as np\n",
    "import pandas as pd\n",
    "\n",
    "import matplotlib.pyplot as plt\n",
    "\n",
    "plt.style.use('dark_background')\n",
    "\n",
    "import seaborn as sns\n",
    "\n",
    "from sklearn.preprocessing import StandardScaler\n",
    "from sklearn.model_selection import train_test_split\n",
    "from sklearn.metrics import precision_score\n",
    "from sklearn.metrics import recall_score\n",
    "from sklearn.metrics import f1_score"
   ]
  },
  {
   "cell_type": "markdown",
   "id": "666cfc4b",
   "metadata": {},
   "source": [
    "###  \n",
    "## Reading CSV File (Dataset)\n",
    "###  "
   ]
  },
  {
   "cell_type": "code",
   "execution_count": 2043,
   "id": "5fe8dc67",
   "metadata": {
    "scrolled": true
   },
   "outputs": [
    {
     "data": {
      "text/html": [
       "<div>\n",
       "<style scoped>\n",
       "    .dataframe tbody tr th:only-of-type {\n",
       "        vertical-align: middle;\n",
       "    }\n",
       "\n",
       "    .dataframe tbody tr th {\n",
       "        vertical-align: top;\n",
       "    }\n",
       "\n",
       "    .dataframe thead th {\n",
       "        text-align: right;\n",
       "    }\n",
       "</style>\n",
       "<table border=\"1\" class=\"dataframe\">\n",
       "  <thead>\n",
       "    <tr style=\"text-align: right;\">\n",
       "      <th></th>\n",
       "      <th>donor_age</th>\n",
       "      <th>donor_age_below_35</th>\n",
       "      <th>donor_ABO</th>\n",
       "      <th>donor_CMV</th>\n",
       "      <th>recipient_age</th>\n",
       "      <th>recipient_age_below_10</th>\n",
       "      <th>recipient_age_int</th>\n",
       "      <th>recipient_gender</th>\n",
       "      <th>recipient_body_mass</th>\n",
       "      <th>recipient_ABO</th>\n",
       "      <th>...</th>\n",
       "      <th>CD3_to_CD34_ratio</th>\n",
       "      <th>ANC_recovery</th>\n",
       "      <th>PLT_recovery</th>\n",
       "      <th>acute_GvHD_II_III_IV</th>\n",
       "      <th>acute_GvHD_III_IV</th>\n",
       "      <th>time_to_acute_GvHD_III_IV</th>\n",
       "      <th>extensive_chronic_GvHD</th>\n",
       "      <th>relapse</th>\n",
       "      <th>survival_time</th>\n",
       "      <th>survival_status</th>\n",
       "    </tr>\n",
       "  </thead>\n",
       "  <tbody>\n",
       "    <tr>\n",
       "      <th>0</th>\n",
       "      <td>22.830137</td>\n",
       "      <td>yes</td>\n",
       "      <td>A</td>\n",
       "      <td>present</td>\n",
       "      <td>9.6</td>\n",
       "      <td>yes</td>\n",
       "      <td>5_10</td>\n",
       "      <td>male</td>\n",
       "      <td>35</td>\n",
       "      <td>A</td>\n",
       "      <td>...</td>\n",
       "      <td>1.33876</td>\n",
       "      <td>19</td>\n",
       "      <td>51</td>\n",
       "      <td>yes</td>\n",
       "      <td>yes</td>\n",
       "      <td>32</td>\n",
       "      <td>no</td>\n",
       "      <td>no</td>\n",
       "      <td>999</td>\n",
       "      <td>0</td>\n",
       "    </tr>\n",
       "    <tr>\n",
       "      <th>1</th>\n",
       "      <td>23.342466</td>\n",
       "      <td>yes</td>\n",
       "      <td>B</td>\n",
       "      <td>absent</td>\n",
       "      <td>4.0</td>\n",
       "      <td>yes</td>\n",
       "      <td>0_5</td>\n",
       "      <td>male</td>\n",
       "      <td>20.6</td>\n",
       "      <td>B</td>\n",
       "      <td>...</td>\n",
       "      <td>11.078295</td>\n",
       "      <td>16</td>\n",
       "      <td>37</td>\n",
       "      <td>yes</td>\n",
       "      <td>no</td>\n",
       "      <td>1000000</td>\n",
       "      <td>no</td>\n",
       "      <td>yes</td>\n",
       "      <td>163</td>\n",
       "      <td>1</td>\n",
       "    </tr>\n",
       "    <tr>\n",
       "      <th>2</th>\n",
       "      <td>26.394521</td>\n",
       "      <td>yes</td>\n",
       "      <td>B</td>\n",
       "      <td>absent</td>\n",
       "      <td>6.6</td>\n",
       "      <td>yes</td>\n",
       "      <td>5_10</td>\n",
       "      <td>male</td>\n",
       "      <td>23.4</td>\n",
       "      <td>B</td>\n",
       "      <td>...</td>\n",
       "      <td>19.01323</td>\n",
       "      <td>23</td>\n",
       "      <td>20</td>\n",
       "      <td>yes</td>\n",
       "      <td>no</td>\n",
       "      <td>1000000</td>\n",
       "      <td>no</td>\n",
       "      <td>yes</td>\n",
       "      <td>435</td>\n",
       "      <td>1</td>\n",
       "    </tr>\n",
       "    <tr>\n",
       "      <th>3</th>\n",
       "      <td>39.684932</td>\n",
       "      <td>no</td>\n",
       "      <td>A</td>\n",
       "      <td>present</td>\n",
       "      <td>18.1</td>\n",
       "      <td>no</td>\n",
       "      <td>10_20</td>\n",
       "      <td>female</td>\n",
       "      <td>50</td>\n",
       "      <td>AB</td>\n",
       "      <td>...</td>\n",
       "      <td>29.481647</td>\n",
       "      <td>23</td>\n",
       "      <td>29</td>\n",
       "      <td>yes</td>\n",
       "      <td>yes</td>\n",
       "      <td>19</td>\n",
       "      <td>?</td>\n",
       "      <td>no</td>\n",
       "      <td>53</td>\n",
       "      <td>1</td>\n",
       "    </tr>\n",
       "    <tr>\n",
       "      <th>4</th>\n",
       "      <td>33.358904</td>\n",
       "      <td>yes</td>\n",
       "      <td>A</td>\n",
       "      <td>absent</td>\n",
       "      <td>1.3</td>\n",
       "      <td>yes</td>\n",
       "      <td>0_5</td>\n",
       "      <td>female</td>\n",
       "      <td>9</td>\n",
       "      <td>AB</td>\n",
       "      <td>...</td>\n",
       "      <td>3.972255</td>\n",
       "      <td>14</td>\n",
       "      <td>14</td>\n",
       "      <td>no</td>\n",
       "      <td>no</td>\n",
       "      <td>1000000</td>\n",
       "      <td>no</td>\n",
       "      <td>no</td>\n",
       "      <td>2043</td>\n",
       "      <td>0</td>\n",
       "    </tr>\n",
       "  </tbody>\n",
       "</table>\n",
       "<p>5 rows × 37 columns</p>\n",
       "</div>"
      ],
      "text/plain": [
       "   donor_age donor_age_below_35 donor_ABO donor_CMV  recipient_age  \\\n",
       "0  22.830137                yes         A   present            9.6   \n",
       "1  23.342466                yes         B    absent            4.0   \n",
       "2  26.394521                yes         B    absent            6.6   \n",
       "3  39.684932                 no         A   present           18.1   \n",
       "4  33.358904                yes         A    absent            1.3   \n",
       "\n",
       "  recipient_age_below_10 recipient_age_int recipient_gender  \\\n",
       "0                    yes              5_10             male   \n",
       "1                    yes               0_5             male   \n",
       "2                    yes              5_10             male   \n",
       "3                     no             10_20           female   \n",
       "4                    yes               0_5           female   \n",
       "\n",
       "  recipient_body_mass recipient_ABO  ... CD3_to_CD34_ratio ANC_recovery  \\\n",
       "0                  35             A  ...           1.33876           19   \n",
       "1                20.6             B  ...         11.078295           16   \n",
       "2                23.4             B  ...          19.01323           23   \n",
       "3                  50            AB  ...         29.481647           23   \n",
       "4                   9            AB  ...          3.972255           14   \n",
       "\n",
       "  PLT_recovery acute_GvHD_II_III_IV acute_GvHD_III_IV  \\\n",
       "0           51                  yes               yes   \n",
       "1           37                  yes                no   \n",
       "2           20                  yes                no   \n",
       "3           29                  yes               yes   \n",
       "4           14                   no                no   \n",
       "\n",
       "  time_to_acute_GvHD_III_IV extensive_chronic_GvHD relapse survival_time  \\\n",
       "0                        32                     no      no           999   \n",
       "1                   1000000                     no     yes           163   \n",
       "2                   1000000                     no     yes           435   \n",
       "3                        19                      ?      no            53   \n",
       "4                   1000000                     no      no          2043   \n",
       "\n",
       "  survival_status  \n",
       "0               0  \n",
       "1               1  \n",
       "2               1  \n",
       "3               1  \n",
       "4               0  \n",
       "\n",
       "[5 rows x 37 columns]"
      ]
     },
     "execution_count": 2043,
     "metadata": {},
     "output_type": "execute_result"
    }
   ],
   "source": [
    "df = pd.read_csv(\"C:/rishabh's space/IIIT BHAGALPUR M.TECH/Course Work Assignments and Various Files/FInal Year project/major project 1/dataset.csv\")\n",
    "df.head()"
   ]
  },
  {
   "cell_type": "markdown",
   "id": "84de5469",
   "metadata": {},
   "source": [
    "## Info about dataset"
   ]
  },
  {
   "cell_type": "markdown",
   "id": "a3edf3d6",
   "metadata": {},
   "source": [
    "### Size of Dataset"
   ]
  },
  {
   "cell_type": "code",
   "execution_count": 2044,
   "id": "63ae6457",
   "metadata": {},
   "outputs": [
    {
     "data": {
      "text/plain": [
       "(187, 37)"
      ]
     },
     "execution_count": 2044,
     "metadata": {},
     "output_type": "execute_result"
    }
   ],
   "source": [
    "df.shape"
   ]
  },
  {
   "cell_type": "markdown",
   "id": "192f17b1",
   "metadata": {},
   "source": [
    "### Info about features"
   ]
  },
  {
   "cell_type": "code",
   "execution_count": 2045,
   "id": "55120625",
   "metadata": {},
   "outputs": [
    {
     "name": "stdout",
     "output_type": "stream",
     "text": [
      "<class 'pandas.core.frame.DataFrame'>\n",
      "RangeIndex: 187 entries, 0 to 186\n",
      "Data columns (total 37 columns):\n",
      " #   Column                     Non-Null Count  Dtype  \n",
      "---  ------                     --------------  -----  \n",
      " 0   donor_age                  187 non-null    float64\n",
      " 1   donor_age_below_35         187 non-null    object \n",
      " 2   donor_ABO                  187 non-null    object \n",
      " 3   donor_CMV                  187 non-null    object \n",
      " 4   recipient_age              187 non-null    float64\n",
      " 5   recipient_age_below_10     187 non-null    object \n",
      " 6   recipient_age_int          187 non-null    object \n",
      " 7   recipient_gender           187 non-null    object \n",
      " 8   recipient_body_mass        187 non-null    object \n",
      " 9   recipient_ABO              187 non-null    object \n",
      " 10  recipient_rh               187 non-null    object \n",
      " 11  recipient_CMV              187 non-null    object \n",
      " 12  disease                    187 non-null    object \n",
      " 13  disease_group              187 non-null    object \n",
      " 14  gender_match               187 non-null    object \n",
      " 15  ABO_match                  187 non-null    object \n",
      " 16  CMV_status                 187 non-null    object \n",
      " 17  HLA_match                  187 non-null    object \n",
      " 18  HLA_mismatch               187 non-null    object \n",
      " 19  antigen                    187 non-null    object \n",
      " 20  allel                      187 non-null    object \n",
      " 21  HLA_group_1                187 non-null    object \n",
      " 22  risk_group                 187 non-null    object \n",
      " 23  stem_cell_source           187 non-null    object \n",
      " 24  tx_post_relapse            187 non-null    object \n",
      " 25  CD34_x1e6_per_kg           187 non-null    float64\n",
      " 26  CD3_x1e8_per_kg            187 non-null    object \n",
      " 27  CD3_to_CD34_ratio          187 non-null    object \n",
      " 28  ANC_recovery               187 non-null    int64  \n",
      " 29  PLT_recovery               187 non-null    int64  \n",
      " 30  acute_GvHD_II_III_IV       187 non-null    object \n",
      " 31  acute_GvHD_III_IV          187 non-null    object \n",
      " 32  time_to_acute_GvHD_III_IV  187 non-null    int64  \n",
      " 33  extensive_chronic_GvHD     187 non-null    object \n",
      " 34  relapse                    187 non-null    object \n",
      " 35  survival_time              187 non-null    int64  \n",
      " 36  survival_status            187 non-null    int64  \n",
      "dtypes: float64(3), int64(5), object(29)\n",
      "memory usage: 54.2+ KB\n"
     ]
    }
   ],
   "source": [
    "df.info()"
   ]
  },
  {
   "cell_type": "markdown",
   "id": "71bc1862",
   "metadata": {},
   "source": [
    "### Checking NULL values"
   ]
  },
  {
   "cell_type": "code",
   "execution_count": 2046,
   "id": "96fdf5d3",
   "metadata": {},
   "outputs": [
    {
     "data": {
      "text/plain": [
       "donor_age                    0\n",
       "donor_age_below_35           0\n",
       "donor_ABO                    0\n",
       "donor_CMV                    0\n",
       "recipient_age                0\n",
       "recipient_age_below_10       0\n",
       "recipient_age_int            0\n",
       "recipient_gender             0\n",
       "recipient_body_mass          0\n",
       "recipient_ABO                0\n",
       "recipient_rh                 0\n",
       "recipient_CMV                0\n",
       "disease                      0\n",
       "disease_group                0\n",
       "gender_match                 0\n",
       "ABO_match                    0\n",
       "CMV_status                   0\n",
       "HLA_match                    0\n",
       "HLA_mismatch                 0\n",
       "antigen                      0\n",
       "allel                        0\n",
       "HLA_group_1                  0\n",
       "risk_group                   0\n",
       "stem_cell_source             0\n",
       "tx_post_relapse              0\n",
       "CD34_x1e6_per_kg             0\n",
       "CD3_x1e8_per_kg              0\n",
       "CD3_to_CD34_ratio            0\n",
       "ANC_recovery                 0\n",
       "PLT_recovery                 0\n",
       "acute_GvHD_II_III_IV         0\n",
       "acute_GvHD_III_IV            0\n",
       "time_to_acute_GvHD_III_IV    0\n",
       "extensive_chronic_GvHD       0\n",
       "relapse                      0\n",
       "survival_time                0\n",
       "survival_status              0\n",
       "dtype: int64"
      ]
     },
     "execution_count": 2046,
     "metadata": {},
     "output_type": "execute_result"
    }
   ],
   "source": [
    "df.isna().sum()"
   ]
  },
  {
   "cell_type": "markdown",
   "id": "5bfe650d",
   "metadata": {},
   "source": [
    "### Checking number of unique values for object type features"
   ]
  },
  {
   "cell_type": "code",
   "execution_count": 2047,
   "id": "a17799f2",
   "metadata": {},
   "outputs": [
    {
     "data": {
      "text/plain": [
       "{'donor_age_below_35': 2,\n",
       " 'donor_ABO': 4,\n",
       " 'donor_CMV': 3,\n",
       " 'recipient_age_below_10': 2,\n",
       " 'recipient_age_int': 3,\n",
       " 'recipient_gender': 2,\n",
       " 'recipient_body_mass': 131,\n",
       " 'recipient_ABO': 5,\n",
       " 'recipient_rh': 3,\n",
       " 'recipient_CMV': 3,\n",
       " 'disease': 5,\n",
       " 'disease_group': 2,\n",
       " 'gender_match': 2,\n",
       " 'ABO_match': 3,\n",
       " 'CMV_status': 5,\n",
       " 'HLA_match': 4,\n",
       " 'HLA_mismatch': 2,\n",
       " 'antigen': 5,\n",
       " 'allel': 6,\n",
       " 'HLA_group_1': 7,\n",
       " 'risk_group': 2,\n",
       " 'stem_cell_source': 2,\n",
       " 'tx_post_relapse': 2,\n",
       " 'CD3_x1e8_per_kg': 164,\n",
       " 'CD3_to_CD34_ratio': 183,\n",
       " 'acute_GvHD_II_III_IV': 2,\n",
       " 'acute_GvHD_III_IV': 2,\n",
       " 'extensive_chronic_GvHD': 3,\n",
       " 'relapse': 2}"
      ]
     },
     "execution_count": 2047,
     "metadata": {},
     "output_type": "execute_result"
    }
   ],
   "source": [
    "{column: len(df[column].unique()) for column in df.select_dtypes('object').columns}"
   ]
  },
  {
   "cell_type": "markdown",
   "id": "afe5b718",
   "metadata": {},
   "source": [
    "### Listing of unique values for object type features"
   ]
  },
  {
   "cell_type": "code",
   "execution_count": 2048,
   "id": "ae851050",
   "metadata": {
    "scrolled": false
   },
   "outputs": [
    {
     "data": {
      "text/plain": [
       "{'donor_age_below_35': ['yes', 'no'],\n",
       " 'donor_ABO': ['A', 'B', 'AB', '0'],\n",
       " 'donor_CMV': ['present', 'absent', '?'],\n",
       " 'recipient_age_below_10': ['yes', 'no'],\n",
       " 'recipient_age_int': ['5_10', '0_5', '10_20'],\n",
       " 'recipient_gender': ['male', 'female'],\n",
       " 'recipient_body_mass': ['35',\n",
       "  '20.6',\n",
       "  '23.4',\n",
       "  '50',\n",
       "  '9',\n",
       "  '40',\n",
       "  '51',\n",
       "  '56',\n",
       "  '20.5',\n",
       "  '16.5',\n",
       "  '10.5',\n",
       "  '47',\n",
       "  '18.1',\n",
       "  '42',\n",
       "  '55',\n",
       "  '30',\n",
       "  '97.8',\n",
       "  '6',\n",
       "  '64',\n",
       "  '62',\n",
       "  '43.2',\n",
       "  '31',\n",
       "  '39.3',\n",
       "  '23.8',\n",
       "  '26.8',\n",
       "  '6.4',\n",
       "  '17',\n",
       "  '14.3',\n",
       "  '38.3',\n",
       "  '20',\n",
       "  '23',\n",
       "  '15',\n",
       "  '49.6',\n",
       "  '10',\n",
       "  '11.25',\n",
       "  '63',\n",
       "  '43.5',\n",
       "  '48',\n",
       "  '15.3',\n",
       "  '29',\n",
       "  '41.4',\n",
       "  '76',\n",
       "  '34.1',\n",
       "  '60.4',\n",
       "  '48.8',\n",
       "  '38.5',\n",
       "  '28.5',\n",
       "  '7.5',\n",
       "  '19.5',\n",
       "  '8.15',\n",
       "  '14',\n",
       "  '37',\n",
       "  '13',\n",
       "  '68',\n",
       "  '52',\n",
       "  '61',\n",
       "  '54.9',\n",
       "  '11.9',\n",
       "  '49',\n",
       "  '30.8',\n",
       "  '45.5',\n",
       "  '46.7',\n",
       "  '58',\n",
       "  '56.5',\n",
       "  '16',\n",
       "  '26.5',\n",
       "  '28',\n",
       "  '26',\n",
       "  '37.5',\n",
       "  '44.3',\n",
       "  '43',\n",
       "  '61.3',\n",
       "  '14.1',\n",
       "  '34',\n",
       "  '62.5',\n",
       "  '11.2',\n",
       "  '72.5',\n",
       "  '24.5',\n",
       "  '70',\n",
       "  '?',\n",
       "  '22.6',\n",
       "  '54.1',\n",
       "  '51.1',\n",
       "  '24.3',\n",
       "  '19',\n",
       "  '33',\n",
       "  '17.2',\n",
       "  '73',\n",
       "  '55.2',\n",
       "  '18.6',\n",
       "  '52.7',\n",
       "  '25.2',\n",
       "  '19.6',\n",
       "  '25',\n",
       "  '90',\n",
       "  '26.9',\n",
       "  '32',\n",
       "  '17.6',\n",
       "  '65',\n",
       "  '9.6',\n",
       "  '50.6',\n",
       "  '60',\n",
       "  '54.5',\n",
       "  '51.3',\n",
       "  '12',\n",
       "  '59',\n",
       "  '20.8',\n",
       "  '42.4',\n",
       "  '44.5',\n",
       "  '103.4',\n",
       "  '71',\n",
       "  '58.9',\n",
       "  '20.9',\n",
       "  '17.3',\n",
       "  '14.8',\n",
       "  '54.6',\n",
       "  '35.5',\n",
       "  '17.5',\n",
       "  '44.1',\n",
       "  '40.3',\n",
       "  '36',\n",
       "  '24',\n",
       "  '25.4',\n",
       "  '38.4',\n",
       "  '18.3',\n",
       "  '18',\n",
       "  '35.9',\n",
       "  '30.5',\n",
       "  '50.8',\n",
       "  '57',\n",
       "  '44'],\n",
       " 'recipient_ABO': ['A', 'B', 'AB', '0', '?'],\n",
       " 'recipient_rh': ['plus', 'minus', '?'],\n",
       " 'recipient_CMV': ['present', 'absent', '?'],\n",
       " 'disease': ['ALL', 'AML', 'chronic', 'nonmalignant', 'lymphoma'],\n",
       " 'disease_group': ['malignant', 'nonmalignant'],\n",
       " 'gender_match': ['other', 'female_to_male'],\n",
       " 'ABO_match': ['matched', 'mismatched', '?'],\n",
       " 'CMV_status': ['3', '0', '2', '1', '?'],\n",
       " 'HLA_match': ['10/10', '9/10', '7/10', '8/10'],\n",
       " 'HLA_mismatch': ['matched', 'mismatched'],\n",
       " 'antigen': ['0', '2', '1', '3', '?'],\n",
       " 'allel': ['0', '1', '3', '2', '4', '?'],\n",
       " 'HLA_group_1': ['matched',\n",
       "  'one_antigen',\n",
       "  'mismatched',\n",
       "  'DRB1_cell',\n",
       "  'one_allel',\n",
       "  'two_diffs',\n",
       "  'three_diffs'],\n",
       " 'risk_group': ['high', 'low'],\n",
       " 'stem_cell_source': ['peripheral_blood', 'bone_marrow'],\n",
       " 'tx_post_relapse': ['no', 'yes'],\n",
       " 'CD3_x1e8_per_kg': ['5.38',\n",
       "  '0.41',\n",
       "  '0.42',\n",
       "  '0.14',\n",
       "  '13.05',\n",
       "  '0.39',\n",
       "  '7.39',\n",
       "  '?',\n",
       "  '6.24',\n",
       "  '7.43',\n",
       "  '1.49',\n",
       "  '6.45',\n",
       "  '5.64',\n",
       "  '0.85',\n",
       "  '3.55',\n",
       "  '0.4',\n",
       "  '3.42',\n",
       "  '16.31',\n",
       "  '5.16',\n",
       "  '2.22',\n",
       "  '5.15',\n",
       "  '7.08',\n",
       "  '3.54',\n",
       "  '0.21',\n",
       "  '7.74',\n",
       "  '3.3',\n",
       "  '3.48',\n",
       "  '11.59',\n",
       "  '3.17',\n",
       "  '4.11',\n",
       "  '5.81',\n",
       "  '3.6',\n",
       "  '1.93',\n",
       "  '5.41',\n",
       "  '1.74',\n",
       "  '8.06',\n",
       "  '3.36',\n",
       "  '3.94',\n",
       "  '8.39',\n",
       "  '0.98',\n",
       "  '6.54',\n",
       "  '5.75',\n",
       "  '1.83',\n",
       "  '1.71',\n",
       "  '0.74',\n",
       "  '1.66',\n",
       "  '0.73',\n",
       "  '0.59',\n",
       "  '4.15',\n",
       "  '11.85',\n",
       "  '8.71',\n",
       "  '8.63',\n",
       "  '5.24',\n",
       "  '7.32',\n",
       "  '8.94',\n",
       "  '0.13',\n",
       "  '12.23',\n",
       "  '0.99',\n",
       "  '0.29',\n",
       "  '0.05',\n",
       "  '3.47',\n",
       "  '8.75',\n",
       "  '16.07',\n",
       "  '4.78',\n",
       "  '3.38',\n",
       "  '4.26',\n",
       "  '4.94',\n",
       "  '1.24',\n",
       "  '0.15',\n",
       "  '0.77',\n",
       "  '0.84',\n",
       "  '5.8',\n",
       "  '5.4',\n",
       "  '3.7',\n",
       "  '2.14',\n",
       "  '0.36',\n",
       "  '10.06',\n",
       "  '3.39',\n",
       "  '6.59',\n",
       "  '0.09',\n",
       "  '5.09',\n",
       "  '0.25',\n",
       "  '1.68',\n",
       "  '7.35',\n",
       "  '7.16',\n",
       "  '5.27',\n",
       "  '4.97',\n",
       "  '2.33',\n",
       "  '5.83',\n",
       "  '7.93',\n",
       "  '4.83',\n",
       "  '2.84',\n",
       "  '13.77',\n",
       "  '2.45',\n",
       "  '5.07',\n",
       "  '3.32',\n",
       "  '6.35',\n",
       "  '0.2',\n",
       "  '2.97',\n",
       "  '13.27',\n",
       "  '8.03',\n",
       "  '4.72',\n",
       "  '6.02',\n",
       "  '0.04',\n",
       "  '4.46',\n",
       "  '4.9',\n",
       "  '5.11',\n",
       "  '10.56',\n",
       "  '0.97',\n",
       "  '2.4',\n",
       "  '1.77',\n",
       "  '1.96',\n",
       "  '10.14',\n",
       "  '15.9',\n",
       "  '1',\n",
       "  '11.49',\n",
       "  '3.25',\n",
       "  '10.49',\n",
       "  '3.19',\n",
       "  '6.92',\n",
       "  '3.08',\n",
       "  '0.17',\n",
       "  '0.27',\n",
       "  '4.59',\n",
       "  '0.47',\n",
       "  '8.48',\n",
       "  '6.25',\n",
       "  '1.03',\n",
       "  '1.97',\n",
       "  '6.3',\n",
       "  '13.01',\n",
       "  '0.24',\n",
       "  '2.85',\n",
       "  '2.75',\n",
       "  '7.15',\n",
       "  '0.49',\n",
       "  '3.75',\n",
       "  '1.45',\n",
       "  '1.42',\n",
       "  '6.42',\n",
       "  '2.05',\n",
       "  '9.27',\n",
       "  '4.09',\n",
       "  '7.6',\n",
       "  '6.56',\n",
       "  '0.37',\n",
       "  '11.71',\n",
       "  '3.86',\n",
       "  '10.61',\n",
       "  '4.86',\n",
       "  '5.02',\n",
       "  '5.65',\n",
       "  '2.76',\n",
       "  '8.85',\n",
       "  '20.02',\n",
       "  '6.85',\n",
       "  '0.5',\n",
       "  '7.81',\n",
       "  '5.19',\n",
       "  '4.39',\n",
       "  '4.47',\n",
       "  '4.73',\n",
       "  '1.91',\n",
       "  '10.45'],\n",
       " 'CD3_to_CD34_ratio': ['1.33876',\n",
       "  '11.078295',\n",
       "  '19.01323',\n",
       "  '29.481647',\n",
       "  '3.972255',\n",
       "  '8.412758',\n",
       "  '2.406248',\n",
       "  '?',\n",
       "  '3.772555',\n",
       "  '1.035244',\n",
       "  '11.883664',\n",
       "  '2.242442',\n",
       "  '2.734654',\n",
       "  '3.713956',\n",
       "  '2.26309',\n",
       "  '12.028841',\n",
       "  '1.595133',\n",
       "  '3.676416',\n",
       "  '1.408646',\n",
       "  '1.711795',\n",
       "  '0.36872',\n",
       "  '1.231287',\n",
       "  '3.81488',\n",
       "  '5.781319',\n",
       "  '13.890231',\n",
       "  '1.672532',\n",
       "  '1.788507',\n",
       "  '3.242425',\n",
       "  '2.001808',\n",
       "  '1.849607',\n",
       "  '2.380569',\n",
       "  '1.687395',\n",
       "  '16.186239',\n",
       "  '3.49847',\n",
       "  '2.778202',\n",
       "  '1.841206',\n",
       "  '8.784289',\n",
       "  '2.733138',\n",
       "  '5.837647',\n",
       "  '2.215047',\n",
       "  '0.692898',\n",
       "  '2.335954',\n",
       "  '4.824785',\n",
       "  '0.927108',\n",
       "  '7.060927',\n",
       "  '6.022997',\n",
       "  '4.517296',\n",
       "  '7.369445',\n",
       "  '3.650173',\n",
       "  '3.280961',\n",
       "  '5.69203',\n",
       "  '4.011209',\n",
       "  '1.351711',\n",
       "  '1.890822',\n",
       "  '1.876834',\n",
       "  '11.017048',\n",
       "  '2.969988',\n",
       "  '1.025586',\n",
       "  '12.958576',\n",
       "  '3.133461',\n",
       "  '5.761517',\n",
       "  '6.739936',\n",
       "  '6.157698',\n",
       "  '14.130301',\n",
       "  '6.750632',\n",
       "  '47.869839',\n",
       "  '3.10536',\n",
       "  '2.780611',\n",
       "  '1.498879',\n",
       "  '1.865411',\n",
       "  '2.927597',\n",
       "  '2.449389',\n",
       "  '1.786075',\n",
       "  '12.479226',\n",
       "  '11.405197',\n",
       "  '12.36598',\n",
       "  '11.123182',\n",
       "  '6.002989',\n",
       "  '4.184092',\n",
       "  '2.014498',\n",
       "  '2.098238',\n",
       "  '2.734269',\n",
       "  '4.420206',\n",
       "  '5.276616',\n",
       "  '1.589775',\n",
       "  '2.687529',\n",
       "  '1.833687',\n",
       "  '14.642869',\n",
       "  '3.430293',\n",
       "  '6.34585',\n",
       "  '6.928599',\n",
       "  '2.394072',\n",
       "  '0.709805',\n",
       "  '1.365785',\n",
       "  '2.337369',\n",
       "  '1.38917',\n",
       "  '7.305471',\n",
       "  '2.552321',\n",
       "  '2.722087',\n",
       "  '7.517388',\n",
       "  '2.498917',\n",
       "  '0.204132',\n",
       "  '2.59522',\n",
       "  '1.848795',\n",
       "  '1.6173',\n",
       "  '2.929081',\n",
       "  '6.537721',\n",
       "  '3.787339',\n",
       "  '1.168705',\n",
       "  '2.491794',\n",
       "  '1.483826',\n",
       "  '7.805782',\n",
       "  '2.449323',\n",
       "  '99.56097',\n",
       "  '1.744246',\n",
       "  '5.045842',\n",
       "  '1.558548',\n",
       "  '1.018042',\n",
       "  '4.489022',\n",
       "  '1.851411',\n",
       "  '4.2187',\n",
       "  '5.164562',\n",
       "  '1.070314',\n",
       "  '1.283387',\n",
       "  '1.082899',\n",
       "  '4.468419',\n",
       "  '1.346764',\n",
       "  '2.997231',\n",
       "  '1.839537',\n",
       "  '3.774746',\n",
       "  '2.118673',\n",
       "  '2.703806',\n",
       "  '56.065024',\n",
       "  '9.456741',\n",
       "  '19.210978',\n",
       "  '1.038752',\n",
       "  '7.423372',\n",
       "  '3.597279',\n",
       "  '0.799458',\n",
       "  '2.818993',\n",
       "  '10.611083',\n",
       "  '6.258729',\n",
       "  '1.543305',\n",
       "  '3.065758',\n",
       "  '0.455355',\n",
       "  '3.737477',\n",
       "  '7.910679',\n",
       "  '3.465003',\n",
       "  '2.40947',\n",
       "  '1.2068',\n",
       "  '7.243234',\n",
       "  '2.496128',\n",
       "  '0.843646',\n",
       "  '2.965539',\n",
       "  '6.081859',\n",
       "  '12.984467',\n",
       "  '2.446267',\n",
       "  '1.350554',\n",
       "  '2.443228',\n",
       "  '1.181537',\n",
       "  '1.854875',\n",
       "  '12.272474',\n",
       "  '1.878043',\n",
       "  '3.120205',\n",
       "  '0.309048',\n",
       "  '2.241175',\n",
       "  '2.929514',\n",
       "  '4.061324',\n",
       "  '2.069057',\n",
       "  '1.214932',\n",
       "  '4.094514',\n",
       "  '0.843967',\n",
       "  '1.830242',\n",
       "  '1.671314',\n",
       "  '2.205359',\n",
       "  '16.32616',\n",
       "  '1.007599',\n",
       "  '2.426122',\n",
       "  '2.52275',\n",
       "  '1.038858',\n",
       "  '1.635559',\n",
       "  '8.07777',\n",
       "  '0.948135'],\n",
       " 'acute_GvHD_II_III_IV': ['yes', 'no'],\n",
       " 'acute_GvHD_III_IV': ['yes', 'no'],\n",
       " 'extensive_chronic_GvHD': ['no', '?', 'yes'],\n",
       " 'relapse': ['no', 'yes']}"
      ]
     },
     "execution_count": 2048,
     "metadata": {},
     "output_type": "execute_result"
    }
   ],
   "source": [
    "{column: list(df[column].unique()) for column in df.select_dtypes('object').columns}"
   ]
  },
  {
   "cell_type": "markdown",
   "id": "9551ec5a",
   "metadata": {},
   "source": [
    "## Pre-Processing"
   ]
  },
  {
   "cell_type": "markdown",
   "id": "2bf3b77b",
   "metadata": {},
   "source": [
    "### Selecting features having object type as their datatype"
   ]
  },
  {
   "cell_type": "code",
   "execution_count": 2049,
   "id": "780a6e49",
   "metadata": {
    "scrolled": true
   },
   "outputs": [],
   "source": [
    "columns=df.select_dtypes('object').columns"
   ]
  },
  {
   "cell_type": "markdown",
   "id": "a377122f",
   "metadata": {},
   "source": [
    "### Listing out the features having object datatype"
   ]
  },
  {
   "cell_type": "code",
   "execution_count": 2050,
   "id": "3f4bb0c4",
   "metadata": {},
   "outputs": [
    {
     "data": {
      "text/plain": [
       "Index(['donor_age_below_35', 'donor_ABO', 'donor_CMV',\n",
       "       'recipient_age_below_10', 'recipient_age_int', 'recipient_gender',\n",
       "       'recipient_body_mass', 'recipient_ABO', 'recipient_rh', 'recipient_CMV',\n",
       "       'disease', 'disease_group', 'gender_match', 'ABO_match', 'CMV_status',\n",
       "       'HLA_match', 'HLA_mismatch', 'antigen', 'allel', 'HLA_group_1',\n",
       "       'risk_group', 'stem_cell_source', 'tx_post_relapse', 'CD3_x1e8_per_kg',\n",
       "       'CD3_to_CD34_ratio', 'acute_GvHD_II_III_IV', 'acute_GvHD_III_IV',\n",
       "       'extensive_chronic_GvHD', 'relapse'],\n",
       "      dtype='object')"
      ]
     },
     "execution_count": 2050,
     "metadata": {},
     "output_type": "execute_result"
    }
   ],
   "source": [
    "columns"
   ]
  },
  {
   "cell_type": "markdown",
   "id": "282262ec",
   "metadata": {},
   "source": [
    "### Missing value replace"
   ]
  },
  {
   "cell_type": "code",
   "execution_count": 2051,
   "id": "6c8ddb43",
   "metadata": {},
   "outputs": [],
   "source": [
    "avg_list=['recipient_body_mass','CD3_x1e8_per_kg','CD3_to_CD34_ratio']"
   ]
  },
  {
   "cell_type": "code",
   "execution_count": 2052,
   "id": "5b60d251",
   "metadata": {},
   "outputs": [],
   "source": [
    "quest_column=[]\n",
    "for i in columns:\n",
    "    if '?' in df[i].unique() and i not in avg_list:\n",
    "        quest_column.append(i)"
   ]
  },
  {
   "cell_type": "code",
   "execution_count": 2053,
   "id": "4f7cbf0a",
   "metadata": {},
   "outputs": [
    {
     "data": {
      "text/plain": [
       "['donor_CMV',\n",
       " 'recipient_ABO',\n",
       " 'recipient_rh',\n",
       " 'recipient_CMV',\n",
       " 'ABO_match',\n",
       " 'CMV_status',\n",
       " 'antigen',\n",
       " 'allel',\n",
       " 'extensive_chronic_GvHD']"
      ]
     },
     "execution_count": 2053,
     "metadata": {},
     "output_type": "execute_result"
    }
   ],
   "source": [
    "quest_column"
   ]
  },
  {
   "cell_type": "code",
   "execution_count": 2054,
   "id": "42964c56",
   "metadata": {},
   "outputs": [],
   "source": [
    "def questionmark_replace(x):\n",
    "    if x == '?':\n",
    "        return rep_value\n",
    "    else: return x"
   ]
  },
  {
   "cell_type": "code",
   "execution_count": 2055,
   "id": "186ef1d5",
   "metadata": {},
   "outputs": [],
   "source": [
    "for i in quest_column:\n",
    "    rep_value=list(df[i].mode())[0]\n",
    "    df[i] = df[i].apply(questionmark_replace)"
   ]
  },
  {
   "cell_type": "code",
   "execution_count": 2056,
   "id": "24f9beed",
   "metadata": {},
   "outputs": [],
   "source": [
    "for i in avg_list:\n",
    "    df_new=df[df[i] != '?']"
   ]
  },
  {
   "cell_type": "code",
   "execution_count": 2057,
   "id": "18f7142f",
   "metadata": {},
   "outputs": [],
   "source": [
    "for i in avg_list:\n",
    "    rep_value=df_new[i].median()\n",
    "    df[i] = df[i].apply(questionmark_replace)"
   ]
  },
  {
   "cell_type": "markdown",
   "id": "147e09b9",
   "metadata": {},
   "source": [
    "### Checking number of unique values for object type features (checking removal of '?' as value)"
   ]
  },
  {
   "cell_type": "code",
   "execution_count": 2058,
   "id": "47cfd2a3",
   "metadata": {
    "scrolled": false
   },
   "outputs": [
    {
     "data": {
      "text/plain": [
       "{'donor_age_below_35': 2,\n",
       " 'donor_ABO': 4,\n",
       " 'donor_CMV': 2,\n",
       " 'recipient_age_below_10': 2,\n",
       " 'recipient_age_int': 3,\n",
       " 'recipient_gender': 2,\n",
       " 'recipient_body_mass': 131,\n",
       " 'recipient_ABO': 4,\n",
       " 'recipient_rh': 2,\n",
       " 'recipient_CMV': 2,\n",
       " 'disease': 5,\n",
       " 'disease_group': 2,\n",
       " 'gender_match': 2,\n",
       " 'ABO_match': 2,\n",
       " 'CMV_status': 4,\n",
       " 'HLA_match': 4,\n",
       " 'HLA_mismatch': 2,\n",
       " 'antigen': 4,\n",
       " 'allel': 5,\n",
       " 'HLA_group_1': 7,\n",
       " 'risk_group': 2,\n",
       " 'stem_cell_source': 2,\n",
       " 'tx_post_relapse': 2,\n",
       " 'CD3_x1e8_per_kg': 164,\n",
       " 'CD3_to_CD34_ratio': 183,\n",
       " 'acute_GvHD_II_III_IV': 2,\n",
       " 'acute_GvHD_III_IV': 2,\n",
       " 'extensive_chronic_GvHD': 2,\n",
       " 'relapse': 2}"
      ]
     },
     "execution_count": 2058,
     "metadata": {},
     "output_type": "execute_result"
    }
   ],
   "source": [
    "{column: len(df[column].unique()) for column in df.select_dtypes('object').columns}"
   ]
  },
  {
   "cell_type": "markdown",
   "id": "9d2712c6",
   "metadata": {},
   "source": [
    "### Listing of unique values for object type features (checking removal of '?' as value)"
   ]
  },
  {
   "cell_type": "code",
   "execution_count": 2059,
   "id": "e35fb044",
   "metadata": {
    "scrolled": false
   },
   "outputs": [
    {
     "data": {
      "text/plain": [
       "{'donor_age_below_35': ['yes', 'no'],\n",
       " 'donor_ABO': ['A', 'B', 'AB', '0'],\n",
       " 'donor_CMV': ['present', 'absent'],\n",
       " 'recipient_age_below_10': ['yes', 'no'],\n",
       " 'recipient_age_int': ['5_10', '0_5', '10_20'],\n",
       " 'recipient_gender': ['male', 'female'],\n",
       " 'recipient_body_mass': ['35',\n",
       "  '20.6',\n",
       "  '23.4',\n",
       "  '50',\n",
       "  '9',\n",
       "  '40',\n",
       "  '51',\n",
       "  '56',\n",
       "  '20.5',\n",
       "  '16.5',\n",
       "  '10.5',\n",
       "  '47',\n",
       "  '18.1',\n",
       "  '42',\n",
       "  '55',\n",
       "  '30',\n",
       "  '97.8',\n",
       "  '6',\n",
       "  '64',\n",
       "  '62',\n",
       "  '43.2',\n",
       "  '31',\n",
       "  '39.3',\n",
       "  '23.8',\n",
       "  '26.8',\n",
       "  '6.4',\n",
       "  '17',\n",
       "  '14.3',\n",
       "  '38.3',\n",
       "  '20',\n",
       "  '23',\n",
       "  '15',\n",
       "  '49.6',\n",
       "  '10',\n",
       "  '11.25',\n",
       "  '63',\n",
       "  '43.5',\n",
       "  '48',\n",
       "  '15.3',\n",
       "  '29',\n",
       "  '41.4',\n",
       "  '76',\n",
       "  '34.1',\n",
       "  '60.4',\n",
       "  '48.8',\n",
       "  '38.5',\n",
       "  '28.5',\n",
       "  '7.5',\n",
       "  '19.5',\n",
       "  '8.15',\n",
       "  '14',\n",
       "  '37',\n",
       "  '13',\n",
       "  '68',\n",
       "  '52',\n",
       "  '61',\n",
       "  '54.9',\n",
       "  '11.9',\n",
       "  '49',\n",
       "  '30.8',\n",
       "  '45.5',\n",
       "  '46.7',\n",
       "  '58',\n",
       "  '56.5',\n",
       "  '16',\n",
       "  '26.5',\n",
       "  '28',\n",
       "  '26',\n",
       "  '37.5',\n",
       "  '44.3',\n",
       "  '43',\n",
       "  '61.3',\n",
       "  '14.1',\n",
       "  '34',\n",
       "  '62.5',\n",
       "  '11.2',\n",
       "  '72.5',\n",
       "  '24.5',\n",
       "  '70',\n",
       "  33.0,\n",
       "  '22.6',\n",
       "  '54.1',\n",
       "  '51.1',\n",
       "  '24.3',\n",
       "  '19',\n",
       "  '33',\n",
       "  '17.2',\n",
       "  '73',\n",
       "  '55.2',\n",
       "  '18.6',\n",
       "  '52.7',\n",
       "  '25.2',\n",
       "  '19.6',\n",
       "  '25',\n",
       "  '90',\n",
       "  '26.9',\n",
       "  '32',\n",
       "  '17.6',\n",
       "  '65',\n",
       "  '9.6',\n",
       "  '50.6',\n",
       "  '60',\n",
       "  '54.5',\n",
       "  '51.3',\n",
       "  '12',\n",
       "  '59',\n",
       "  '20.8',\n",
       "  '42.4',\n",
       "  '44.5',\n",
       "  '103.4',\n",
       "  '71',\n",
       "  '58.9',\n",
       "  '20.9',\n",
       "  '17.3',\n",
       "  '14.8',\n",
       "  '54.6',\n",
       "  '35.5',\n",
       "  '17.5',\n",
       "  '44.1',\n",
       "  '40.3',\n",
       "  '36',\n",
       "  '24',\n",
       "  '25.4',\n",
       "  '38.4',\n",
       "  '18.3',\n",
       "  '18',\n",
       "  '35.9',\n",
       "  '30.5',\n",
       "  '50.8',\n",
       "  '57',\n",
       "  '44'],\n",
       " 'recipient_ABO': ['A', 'B', 'AB', '0'],\n",
       " 'recipient_rh': ['plus', 'minus'],\n",
       " 'recipient_CMV': ['present', 'absent'],\n",
       " 'disease': ['ALL', 'AML', 'chronic', 'nonmalignant', 'lymphoma'],\n",
       " 'disease_group': ['malignant', 'nonmalignant'],\n",
       " 'gender_match': ['other', 'female_to_male'],\n",
       " 'ABO_match': ['matched', 'mismatched'],\n",
       " 'CMV_status': ['3', '0', '2', '1'],\n",
       " 'HLA_match': ['10/10', '9/10', '7/10', '8/10'],\n",
       " 'HLA_mismatch': ['matched', 'mismatched'],\n",
       " 'antigen': ['0', '2', '1', '3'],\n",
       " 'allel': ['0', '1', '3', '2', '4'],\n",
       " 'HLA_group_1': ['matched',\n",
       "  'one_antigen',\n",
       "  'mismatched',\n",
       "  'DRB1_cell',\n",
       "  'one_allel',\n",
       "  'two_diffs',\n",
       "  'three_diffs'],\n",
       " 'risk_group': ['high', 'low'],\n",
       " 'stem_cell_source': ['peripheral_blood', 'bone_marrow'],\n",
       " 'tx_post_relapse': ['no', 'yes'],\n",
       " 'CD3_x1e8_per_kg': ['5.38',\n",
       "  '0.41',\n",
       "  '0.42',\n",
       "  '0.14',\n",
       "  '13.05',\n",
       "  '0.39',\n",
       "  '7.39',\n",
       "  4.324999999999999,\n",
       "  '6.24',\n",
       "  '7.43',\n",
       "  '1.49',\n",
       "  '6.45',\n",
       "  '5.64',\n",
       "  '0.85',\n",
       "  '3.55',\n",
       "  '0.4',\n",
       "  '3.42',\n",
       "  '16.31',\n",
       "  '5.16',\n",
       "  '2.22',\n",
       "  '5.15',\n",
       "  '7.08',\n",
       "  '3.54',\n",
       "  '0.21',\n",
       "  '7.74',\n",
       "  '3.3',\n",
       "  '3.48',\n",
       "  '11.59',\n",
       "  '3.17',\n",
       "  '4.11',\n",
       "  '5.81',\n",
       "  '3.6',\n",
       "  '1.93',\n",
       "  '5.41',\n",
       "  '1.74',\n",
       "  '8.06',\n",
       "  '3.36',\n",
       "  '3.94',\n",
       "  '8.39',\n",
       "  '0.98',\n",
       "  '6.54',\n",
       "  '5.75',\n",
       "  '1.83',\n",
       "  '1.71',\n",
       "  '0.74',\n",
       "  '1.66',\n",
       "  '0.73',\n",
       "  '0.59',\n",
       "  '4.15',\n",
       "  '11.85',\n",
       "  '8.71',\n",
       "  '8.63',\n",
       "  '5.24',\n",
       "  '7.32',\n",
       "  '8.94',\n",
       "  '0.13',\n",
       "  '12.23',\n",
       "  '0.99',\n",
       "  '0.29',\n",
       "  '0.05',\n",
       "  '3.47',\n",
       "  '8.75',\n",
       "  '16.07',\n",
       "  '4.78',\n",
       "  '3.38',\n",
       "  '4.26',\n",
       "  '4.94',\n",
       "  '1.24',\n",
       "  '0.15',\n",
       "  '0.77',\n",
       "  '0.84',\n",
       "  '5.8',\n",
       "  '5.4',\n",
       "  '3.7',\n",
       "  '2.14',\n",
       "  '0.36',\n",
       "  '10.06',\n",
       "  '3.39',\n",
       "  '6.59',\n",
       "  '0.09',\n",
       "  '5.09',\n",
       "  '0.25',\n",
       "  '1.68',\n",
       "  '7.35',\n",
       "  '7.16',\n",
       "  '5.27',\n",
       "  '4.97',\n",
       "  '2.33',\n",
       "  '5.83',\n",
       "  '7.93',\n",
       "  '4.83',\n",
       "  '2.84',\n",
       "  '13.77',\n",
       "  '2.45',\n",
       "  '5.07',\n",
       "  '3.32',\n",
       "  '6.35',\n",
       "  '0.2',\n",
       "  '2.97',\n",
       "  '13.27',\n",
       "  '8.03',\n",
       "  '4.72',\n",
       "  '6.02',\n",
       "  '0.04',\n",
       "  '4.46',\n",
       "  '4.9',\n",
       "  '5.11',\n",
       "  '10.56',\n",
       "  '0.97',\n",
       "  '2.4',\n",
       "  '1.77',\n",
       "  '1.96',\n",
       "  '10.14',\n",
       "  '15.9',\n",
       "  '1',\n",
       "  '11.49',\n",
       "  '3.25',\n",
       "  '10.49',\n",
       "  '3.19',\n",
       "  '6.92',\n",
       "  '3.08',\n",
       "  '0.17',\n",
       "  '0.27',\n",
       "  '4.59',\n",
       "  '0.47',\n",
       "  '8.48',\n",
       "  '6.25',\n",
       "  '1.03',\n",
       "  '1.97',\n",
       "  '6.3',\n",
       "  '13.01',\n",
       "  '0.24',\n",
       "  '2.85',\n",
       "  '2.75',\n",
       "  '7.15',\n",
       "  '0.49',\n",
       "  '3.75',\n",
       "  '1.45',\n",
       "  '1.42',\n",
       "  '6.42',\n",
       "  '2.05',\n",
       "  '9.27',\n",
       "  '4.09',\n",
       "  '7.6',\n",
       "  '6.56',\n",
       "  '0.37',\n",
       "  '11.71',\n",
       "  '3.86',\n",
       "  '10.61',\n",
       "  '4.86',\n",
       "  '5.02',\n",
       "  '5.65',\n",
       "  '2.76',\n",
       "  '8.85',\n",
       "  '20.02',\n",
       "  '6.85',\n",
       "  '0.5',\n",
       "  '7.81',\n",
       "  '5.19',\n",
       "  '4.39',\n",
       "  '4.47',\n",
       "  '4.73',\n",
       "  '1.91',\n",
       "  '10.45'],\n",
       " 'CD3_to_CD34_ratio': ['1.33876',\n",
       "  '11.078295',\n",
       "  '19.01323',\n",
       "  '29.481647',\n",
       "  '3.972255',\n",
       "  '8.412758',\n",
       "  '2.406248',\n",
       "  2.7344615,\n",
       "  '3.772555',\n",
       "  '1.035244',\n",
       "  '11.883664',\n",
       "  '2.242442',\n",
       "  '2.734654',\n",
       "  '3.713956',\n",
       "  '2.26309',\n",
       "  '12.028841',\n",
       "  '1.595133',\n",
       "  '3.676416',\n",
       "  '1.408646',\n",
       "  '1.711795',\n",
       "  '0.36872',\n",
       "  '1.231287',\n",
       "  '3.81488',\n",
       "  '5.781319',\n",
       "  '13.890231',\n",
       "  '1.672532',\n",
       "  '1.788507',\n",
       "  '3.242425',\n",
       "  '2.001808',\n",
       "  '1.849607',\n",
       "  '2.380569',\n",
       "  '1.687395',\n",
       "  '16.186239',\n",
       "  '3.49847',\n",
       "  '2.778202',\n",
       "  '1.841206',\n",
       "  '8.784289',\n",
       "  '2.733138',\n",
       "  '5.837647',\n",
       "  '2.215047',\n",
       "  '0.692898',\n",
       "  '2.335954',\n",
       "  '4.824785',\n",
       "  '0.927108',\n",
       "  '7.060927',\n",
       "  '6.022997',\n",
       "  '4.517296',\n",
       "  '7.369445',\n",
       "  '3.650173',\n",
       "  '3.280961',\n",
       "  '5.69203',\n",
       "  '4.011209',\n",
       "  '1.351711',\n",
       "  '1.890822',\n",
       "  '1.876834',\n",
       "  '11.017048',\n",
       "  '2.969988',\n",
       "  '1.025586',\n",
       "  '12.958576',\n",
       "  '3.133461',\n",
       "  '5.761517',\n",
       "  '6.739936',\n",
       "  '6.157698',\n",
       "  '14.130301',\n",
       "  '6.750632',\n",
       "  '47.869839',\n",
       "  '3.10536',\n",
       "  '2.780611',\n",
       "  '1.498879',\n",
       "  '1.865411',\n",
       "  '2.927597',\n",
       "  '2.449389',\n",
       "  '1.786075',\n",
       "  '12.479226',\n",
       "  '11.405197',\n",
       "  '12.36598',\n",
       "  '11.123182',\n",
       "  '6.002989',\n",
       "  '4.184092',\n",
       "  '2.014498',\n",
       "  '2.098238',\n",
       "  '2.734269',\n",
       "  '4.420206',\n",
       "  '5.276616',\n",
       "  '1.589775',\n",
       "  '2.687529',\n",
       "  '1.833687',\n",
       "  '14.642869',\n",
       "  '3.430293',\n",
       "  '6.34585',\n",
       "  '6.928599',\n",
       "  '2.394072',\n",
       "  '0.709805',\n",
       "  '1.365785',\n",
       "  '2.337369',\n",
       "  '1.38917',\n",
       "  '7.305471',\n",
       "  '2.552321',\n",
       "  '2.722087',\n",
       "  '7.517388',\n",
       "  '2.498917',\n",
       "  '0.204132',\n",
       "  '2.59522',\n",
       "  '1.848795',\n",
       "  '1.6173',\n",
       "  '2.929081',\n",
       "  '6.537721',\n",
       "  '3.787339',\n",
       "  '1.168705',\n",
       "  '2.491794',\n",
       "  '1.483826',\n",
       "  '7.805782',\n",
       "  '2.449323',\n",
       "  '99.56097',\n",
       "  '1.744246',\n",
       "  '5.045842',\n",
       "  '1.558548',\n",
       "  '1.018042',\n",
       "  '4.489022',\n",
       "  '1.851411',\n",
       "  '4.2187',\n",
       "  '5.164562',\n",
       "  '1.070314',\n",
       "  '1.283387',\n",
       "  '1.082899',\n",
       "  '4.468419',\n",
       "  '1.346764',\n",
       "  '2.997231',\n",
       "  '1.839537',\n",
       "  '3.774746',\n",
       "  '2.118673',\n",
       "  '2.703806',\n",
       "  '56.065024',\n",
       "  '9.456741',\n",
       "  '19.210978',\n",
       "  '1.038752',\n",
       "  '7.423372',\n",
       "  '3.597279',\n",
       "  '0.799458',\n",
       "  '2.818993',\n",
       "  '10.611083',\n",
       "  '6.258729',\n",
       "  '1.543305',\n",
       "  '3.065758',\n",
       "  '0.455355',\n",
       "  '3.737477',\n",
       "  '7.910679',\n",
       "  '3.465003',\n",
       "  '2.40947',\n",
       "  '1.2068',\n",
       "  '7.243234',\n",
       "  '2.496128',\n",
       "  '0.843646',\n",
       "  '2.965539',\n",
       "  '6.081859',\n",
       "  '12.984467',\n",
       "  '2.446267',\n",
       "  '1.350554',\n",
       "  '2.443228',\n",
       "  '1.181537',\n",
       "  '1.854875',\n",
       "  '12.272474',\n",
       "  '1.878043',\n",
       "  '3.120205',\n",
       "  '0.309048',\n",
       "  '2.241175',\n",
       "  '2.929514',\n",
       "  '4.061324',\n",
       "  '2.069057',\n",
       "  '1.214932',\n",
       "  '4.094514',\n",
       "  '0.843967',\n",
       "  '1.830242',\n",
       "  '1.671314',\n",
       "  '2.205359',\n",
       "  '16.32616',\n",
       "  '1.007599',\n",
       "  '2.426122',\n",
       "  '2.52275',\n",
       "  '1.038858',\n",
       "  '1.635559',\n",
       "  '8.07777',\n",
       "  '0.948135'],\n",
       " 'acute_GvHD_II_III_IV': ['yes', 'no'],\n",
       " 'acute_GvHD_III_IV': ['yes', 'no'],\n",
       " 'extensive_chronic_GvHD': ['no', 'yes'],\n",
       " 'relapse': ['no', 'yes']}"
      ]
     },
     "execution_count": 2059,
     "metadata": {},
     "output_type": "execute_result"
    }
   ],
   "source": [
    "{column: list(df[column].unique()) for column in df.select_dtypes('object').columns}"
   ]
  },
  {
   "cell_type": "markdown",
   "id": "54f11a87",
   "metadata": {},
   "source": [
    "### Creating a custom function to convert datatype for features having numerical type values"
   ]
  },
  {
   "cell_type": "code",
   "execution_count": 2060,
   "id": "979304c4",
   "metadata": {},
   "outputs": [],
   "source": [
    "def type_covertor(x):\n",
    "    if x == '?':\n",
    "        return 0\n",
    "    else: return float(x)\n",
    "   "
   ]
  },
  {
   "cell_type": "markdown",
   "id": "53b0f6d6",
   "metadata": {},
   "source": [
    "### Converting values from object to numerical type"
   ]
  },
  {
   "cell_type": "code",
   "execution_count": 2061,
   "id": "8fde2a02",
   "metadata": {},
   "outputs": [],
   "source": [
    "df['recipient_body_mass'] = df['recipient_body_mass'].apply(type_covertor)"
   ]
  },
  {
   "cell_type": "markdown",
   "id": "32a12aa2",
   "metadata": {},
   "source": [
    "### Checking the change of datatype for the feature"
   ]
  },
  {
   "cell_type": "code",
   "execution_count": 2062,
   "id": "dadcc647",
   "metadata": {},
   "outputs": [
    {
     "name": "stdout",
     "output_type": "stream",
     "text": [
      "<class 'pandas.core.frame.DataFrame'>\n",
      "RangeIndex: 187 entries, 0 to 186\n",
      "Data columns (total 37 columns):\n",
      " #   Column                     Non-Null Count  Dtype  \n",
      "---  ------                     --------------  -----  \n",
      " 0   donor_age                  187 non-null    float64\n",
      " 1   donor_age_below_35         187 non-null    object \n",
      " 2   donor_ABO                  187 non-null    object \n",
      " 3   donor_CMV                  187 non-null    object \n",
      " 4   recipient_age              187 non-null    float64\n",
      " 5   recipient_age_below_10     187 non-null    object \n",
      " 6   recipient_age_int          187 non-null    object \n",
      " 7   recipient_gender           187 non-null    object \n",
      " 8   recipient_body_mass        187 non-null    float64\n",
      " 9   recipient_ABO              187 non-null    object \n",
      " 10  recipient_rh               187 non-null    object \n",
      " 11  recipient_CMV              187 non-null    object \n",
      " 12  disease                    187 non-null    object \n",
      " 13  disease_group              187 non-null    object \n",
      " 14  gender_match               187 non-null    object \n",
      " 15  ABO_match                  187 non-null    object \n",
      " 16  CMV_status                 187 non-null    object \n",
      " 17  HLA_match                  187 non-null    object \n",
      " 18  HLA_mismatch               187 non-null    object \n",
      " 19  antigen                    187 non-null    object \n",
      " 20  allel                      187 non-null    object \n",
      " 21  HLA_group_1                187 non-null    object \n",
      " 22  risk_group                 187 non-null    object \n",
      " 23  stem_cell_source           187 non-null    object \n",
      " 24  tx_post_relapse            187 non-null    object \n",
      " 25  CD34_x1e6_per_kg           187 non-null    float64\n",
      " 26  CD3_x1e8_per_kg            187 non-null    object \n",
      " 27  CD3_to_CD34_ratio          187 non-null    object \n",
      " 28  ANC_recovery               187 non-null    int64  \n",
      " 29  PLT_recovery               187 non-null    int64  \n",
      " 30  acute_GvHD_II_III_IV       187 non-null    object \n",
      " 31  acute_GvHD_III_IV          187 non-null    object \n",
      " 32  time_to_acute_GvHD_III_IV  187 non-null    int64  \n",
      " 33  extensive_chronic_GvHD     187 non-null    object \n",
      " 34  relapse                    187 non-null    object \n",
      " 35  survival_time              187 non-null    int64  \n",
      " 36  survival_status            187 non-null    int64  \n",
      "dtypes: float64(4), int64(5), object(28)\n",
      "memory usage: 54.2+ KB\n"
     ]
    }
   ],
   "source": [
    "df.info()"
   ]
  },
  {
   "cell_type": "markdown",
   "id": "afffeab7",
   "metadata": {},
   "source": [
    "### Converting values from object to numerical type"
   ]
  },
  {
   "cell_type": "code",
   "execution_count": 2063,
   "id": "ef94be63",
   "metadata": {},
   "outputs": [],
   "source": [
    "df['CD3_x1e8_per_kg'] = df['CD3_x1e8_per_kg'].apply(type_covertor)"
   ]
  },
  {
   "cell_type": "markdown",
   "id": "2ca81446",
   "metadata": {},
   "source": [
    "### Checking the change of datatype for the feature"
   ]
  },
  {
   "cell_type": "code",
   "execution_count": 2064,
   "id": "64db6a19",
   "metadata": {},
   "outputs": [
    {
     "name": "stdout",
     "output_type": "stream",
     "text": [
      "<class 'pandas.core.frame.DataFrame'>\n",
      "RangeIndex: 187 entries, 0 to 186\n",
      "Data columns (total 37 columns):\n",
      " #   Column                     Non-Null Count  Dtype  \n",
      "---  ------                     --------------  -----  \n",
      " 0   donor_age                  187 non-null    float64\n",
      " 1   donor_age_below_35         187 non-null    object \n",
      " 2   donor_ABO                  187 non-null    object \n",
      " 3   donor_CMV                  187 non-null    object \n",
      " 4   recipient_age              187 non-null    float64\n",
      " 5   recipient_age_below_10     187 non-null    object \n",
      " 6   recipient_age_int          187 non-null    object \n",
      " 7   recipient_gender           187 non-null    object \n",
      " 8   recipient_body_mass        187 non-null    float64\n",
      " 9   recipient_ABO              187 non-null    object \n",
      " 10  recipient_rh               187 non-null    object \n",
      " 11  recipient_CMV              187 non-null    object \n",
      " 12  disease                    187 non-null    object \n",
      " 13  disease_group              187 non-null    object \n",
      " 14  gender_match               187 non-null    object \n",
      " 15  ABO_match                  187 non-null    object \n",
      " 16  CMV_status                 187 non-null    object \n",
      " 17  HLA_match                  187 non-null    object \n",
      " 18  HLA_mismatch               187 non-null    object \n",
      " 19  antigen                    187 non-null    object \n",
      " 20  allel                      187 non-null    object \n",
      " 21  HLA_group_1                187 non-null    object \n",
      " 22  risk_group                 187 non-null    object \n",
      " 23  stem_cell_source           187 non-null    object \n",
      " 24  tx_post_relapse            187 non-null    object \n",
      " 25  CD34_x1e6_per_kg           187 non-null    float64\n",
      " 26  CD3_x1e8_per_kg            187 non-null    float64\n",
      " 27  CD3_to_CD34_ratio          187 non-null    object \n",
      " 28  ANC_recovery               187 non-null    int64  \n",
      " 29  PLT_recovery               187 non-null    int64  \n",
      " 30  acute_GvHD_II_III_IV       187 non-null    object \n",
      " 31  acute_GvHD_III_IV          187 non-null    object \n",
      " 32  time_to_acute_GvHD_III_IV  187 non-null    int64  \n",
      " 33  extensive_chronic_GvHD     187 non-null    object \n",
      " 34  relapse                    187 non-null    object \n",
      " 35  survival_time              187 non-null    int64  \n",
      " 36  survival_status            187 non-null    int64  \n",
      "dtypes: float64(5), int64(5), object(27)\n",
      "memory usage: 54.2+ KB\n"
     ]
    }
   ],
   "source": [
    "df.info()"
   ]
  },
  {
   "cell_type": "markdown",
   "id": "63439d73",
   "metadata": {},
   "source": [
    "### Converting values from object to numerical type"
   ]
  },
  {
   "cell_type": "code",
   "execution_count": 2065,
   "id": "17961d76",
   "metadata": {},
   "outputs": [],
   "source": [
    "df['CD3_to_CD34_ratio'] = df['CD3_to_CD34_ratio'].apply(type_covertor)"
   ]
  },
  {
   "cell_type": "markdown",
   "id": "b509a505",
   "metadata": {},
   "source": [
    "### Checking the change of datatype for the feature"
   ]
  },
  {
   "cell_type": "code",
   "execution_count": 2066,
   "id": "10614179",
   "metadata": {
    "scrolled": false
   },
   "outputs": [
    {
     "name": "stdout",
     "output_type": "stream",
     "text": [
      "<class 'pandas.core.frame.DataFrame'>\n",
      "RangeIndex: 187 entries, 0 to 186\n",
      "Data columns (total 37 columns):\n",
      " #   Column                     Non-Null Count  Dtype  \n",
      "---  ------                     --------------  -----  \n",
      " 0   donor_age                  187 non-null    float64\n",
      " 1   donor_age_below_35         187 non-null    object \n",
      " 2   donor_ABO                  187 non-null    object \n",
      " 3   donor_CMV                  187 non-null    object \n",
      " 4   recipient_age              187 non-null    float64\n",
      " 5   recipient_age_below_10     187 non-null    object \n",
      " 6   recipient_age_int          187 non-null    object \n",
      " 7   recipient_gender           187 non-null    object \n",
      " 8   recipient_body_mass        187 non-null    float64\n",
      " 9   recipient_ABO              187 non-null    object \n",
      " 10  recipient_rh               187 non-null    object \n",
      " 11  recipient_CMV              187 non-null    object \n",
      " 12  disease                    187 non-null    object \n",
      " 13  disease_group              187 non-null    object \n",
      " 14  gender_match               187 non-null    object \n",
      " 15  ABO_match                  187 non-null    object \n",
      " 16  CMV_status                 187 non-null    object \n",
      " 17  HLA_match                  187 non-null    object \n",
      " 18  HLA_mismatch               187 non-null    object \n",
      " 19  antigen                    187 non-null    object \n",
      " 20  allel                      187 non-null    object \n",
      " 21  HLA_group_1                187 non-null    object \n",
      " 22  risk_group                 187 non-null    object \n",
      " 23  stem_cell_source           187 non-null    object \n",
      " 24  tx_post_relapse            187 non-null    object \n",
      " 25  CD34_x1e6_per_kg           187 non-null    float64\n",
      " 26  CD3_x1e8_per_kg            187 non-null    float64\n",
      " 27  CD3_to_CD34_ratio          187 non-null    float64\n",
      " 28  ANC_recovery               187 non-null    int64  \n",
      " 29  PLT_recovery               187 non-null    int64  \n",
      " 30  acute_GvHD_II_III_IV       187 non-null    object \n",
      " 31  acute_GvHD_III_IV          187 non-null    object \n",
      " 32  time_to_acute_GvHD_III_IV  187 non-null    int64  \n",
      " 33  extensive_chronic_GvHD     187 non-null    object \n",
      " 34  relapse                    187 non-null    object \n",
      " 35  survival_time              187 non-null    int64  \n",
      " 36  survival_status            187 non-null    int64  \n",
      "dtypes: float64(6), int64(5), object(26)\n",
      "memory usage: 54.2+ KB\n"
     ]
    }
   ],
   "source": [
    "df.info()"
   ]
  },
  {
   "cell_type": "markdown",
   "id": "cdbf0f40",
   "metadata": {},
   "source": [
    "### Listing of unique values for object type features (checking for the remaining object type features)"
   ]
  },
  {
   "cell_type": "code",
   "execution_count": 2067,
   "id": "6af7a659",
   "metadata": {},
   "outputs": [
    {
     "data": {
      "text/plain": [
       "{'donor_age_below_35': ['yes', 'no'],\n",
       " 'donor_ABO': ['A', 'B', 'AB', '0'],\n",
       " 'donor_CMV': ['present', 'absent'],\n",
       " 'recipient_age_below_10': ['yes', 'no'],\n",
       " 'recipient_age_int': ['5_10', '0_5', '10_20'],\n",
       " 'recipient_gender': ['male', 'female'],\n",
       " 'recipient_ABO': ['A', 'B', 'AB', '0'],\n",
       " 'recipient_rh': ['plus', 'minus'],\n",
       " 'recipient_CMV': ['present', 'absent'],\n",
       " 'disease': ['ALL', 'AML', 'chronic', 'nonmalignant', 'lymphoma'],\n",
       " 'disease_group': ['malignant', 'nonmalignant'],\n",
       " 'gender_match': ['other', 'female_to_male'],\n",
       " 'ABO_match': ['matched', 'mismatched'],\n",
       " 'CMV_status': ['3', '0', '2', '1'],\n",
       " 'HLA_match': ['10/10', '9/10', '7/10', '8/10'],\n",
       " 'HLA_mismatch': ['matched', 'mismatched'],\n",
       " 'antigen': ['0', '2', '1', '3'],\n",
       " 'allel': ['0', '1', '3', '2', '4'],\n",
       " 'HLA_group_1': ['matched',\n",
       "  'one_antigen',\n",
       "  'mismatched',\n",
       "  'DRB1_cell',\n",
       "  'one_allel',\n",
       "  'two_diffs',\n",
       "  'three_diffs'],\n",
       " 'risk_group': ['high', 'low'],\n",
       " 'stem_cell_source': ['peripheral_blood', 'bone_marrow'],\n",
       " 'tx_post_relapse': ['no', 'yes'],\n",
       " 'acute_GvHD_II_III_IV': ['yes', 'no'],\n",
       " 'acute_GvHD_III_IV': ['yes', 'no'],\n",
       " 'extensive_chronic_GvHD': ['no', 'yes'],\n",
       " 'relapse': ['no', 'yes']}"
      ]
     },
     "execution_count": 2067,
     "metadata": {},
     "output_type": "execute_result"
    }
   ],
   "source": [
    "{column: list(df[column].unique()) for column in df.select_dtypes('object').columns}"
   ]
  },
  {
   "cell_type": "markdown",
   "id": "9f7183c0",
   "metadata": {},
   "source": [
    "## Encoding"
   ]
  },
  {
   "cell_type": "code",
   "execution_count": 2068,
   "id": "3421f66a",
   "metadata": {},
   "outputs": [],
   "source": [
    "x= {column: len(df[column].unique()) == 2 for column in df.select_dtypes('object').columns}"
   ]
  },
  {
   "cell_type": "markdown",
   "id": "73198a0f",
   "metadata": {},
   "source": [
    "### Selecting features having binary type values"
   ]
  },
  {
   "cell_type": "code",
   "execution_count": 2069,
   "id": "80bad2e9",
   "metadata": {},
   "outputs": [],
   "source": [
    "binary=[]\n",
    "for i in x:\n",
    "    if x[i] == True:\n",
    "        binary.append(i)"
   ]
  },
  {
   "cell_type": "code",
   "execution_count": 2070,
   "id": "10a7e8b8",
   "metadata": {},
   "outputs": [
    {
     "data": {
      "text/plain": [
       "['donor_age_below_35',\n",
       " 'donor_CMV',\n",
       " 'recipient_age_below_10',\n",
       " 'recipient_gender',\n",
       " 'recipient_rh',\n",
       " 'recipient_CMV',\n",
       " 'disease_group',\n",
       " 'gender_match',\n",
       " 'ABO_match',\n",
       " 'HLA_mismatch',\n",
       " 'risk_group',\n",
       " 'stem_cell_source',\n",
       " 'tx_post_relapse',\n",
       " 'acute_GvHD_II_III_IV',\n",
       " 'acute_GvHD_III_IV',\n",
       " 'extensive_chronic_GvHD',\n",
       " 'relapse']"
      ]
     },
     "execution_count": 2070,
     "metadata": {},
     "output_type": "execute_result"
    }
   ],
   "source": [
    "binary"
   ]
  },
  {
   "cell_type": "markdown",
   "id": "61369ba6",
   "metadata": {},
   "source": [
    "### Binary encoding"
   ]
  },
  {
   "cell_type": "code",
   "execution_count": 2071,
   "id": "ecb7f103",
   "metadata": {},
   "outputs": [],
   "source": [
    "def encode_binary(x):\n",
    "    if x == 'no':\n",
    "        return 0\n",
    "    elif x == 'yes':\n",
    "        return 1\n",
    "    elif x ==\"present\":\n",
    "        return 1\n",
    "    elif x =='absent':\n",
    "        return 0\n",
    "    elif x ==\"female\":\n",
    "        return 0\n",
    "    elif x =='male':\n",
    "        return 1\n",
    "    elif x ==\"minus\":\n",
    "        return 0\n",
    "    elif x =='plus':\n",
    "        return 1\n",
    "    elif x ==\"nonmalignant\":\n",
    "        return 0\n",
    "    elif x =='malignant':\n",
    "        return 1\n",
    "    elif x ==\"other\":\n",
    "        return 0\n",
    "    elif x =='female_to_male':\n",
    "        return 1\n",
    "    elif x ==\"mismatched\":\n",
    "        return 0\n",
    "    elif x =='matched':\n",
    "        return 1\n",
    "    elif x ==\"low\":\n",
    "        return 0\n",
    "    elif x =='high':\n",
    "        return 1\n",
    "    elif x ==\"peripheral_blood\":\n",
    "        return 0\n",
    "    elif x =='bone_marrow':\n",
    "        return 1"
   ]
  },
  {
   "cell_type": "code",
   "execution_count": 2072,
   "id": "194d8ebe",
   "metadata": {},
   "outputs": [],
   "source": [
    "for i in binary:\n",
    "    df[i] = df[i].apply(encode_binary)"
   ]
  },
  {
   "cell_type": "markdown",
   "id": "6474e8f8",
   "metadata": {},
   "source": [
    "### Checking the change of datatype for the feature"
   ]
  },
  {
   "cell_type": "code",
   "execution_count": 2073,
   "id": "8c9dd092",
   "metadata": {
    "scrolled": false
   },
   "outputs": [
    {
     "name": "stdout",
     "output_type": "stream",
     "text": [
      "<class 'pandas.core.frame.DataFrame'>\n",
      "RangeIndex: 187 entries, 0 to 186\n",
      "Data columns (total 37 columns):\n",
      " #   Column                     Non-Null Count  Dtype  \n",
      "---  ------                     --------------  -----  \n",
      " 0   donor_age                  187 non-null    float64\n",
      " 1   donor_age_below_35         187 non-null    int64  \n",
      " 2   donor_ABO                  187 non-null    object \n",
      " 3   donor_CMV                  187 non-null    int64  \n",
      " 4   recipient_age              187 non-null    float64\n",
      " 5   recipient_age_below_10     187 non-null    int64  \n",
      " 6   recipient_age_int          187 non-null    object \n",
      " 7   recipient_gender           187 non-null    int64  \n",
      " 8   recipient_body_mass        187 non-null    float64\n",
      " 9   recipient_ABO              187 non-null    object \n",
      " 10  recipient_rh               187 non-null    int64  \n",
      " 11  recipient_CMV              187 non-null    int64  \n",
      " 12  disease                    187 non-null    object \n",
      " 13  disease_group              187 non-null    int64  \n",
      " 14  gender_match               187 non-null    int64  \n",
      " 15  ABO_match                  187 non-null    int64  \n",
      " 16  CMV_status                 187 non-null    object \n",
      " 17  HLA_match                  187 non-null    object \n",
      " 18  HLA_mismatch               187 non-null    int64  \n",
      " 19  antigen                    187 non-null    object \n",
      " 20  allel                      187 non-null    object \n",
      " 21  HLA_group_1                187 non-null    object \n",
      " 22  risk_group                 187 non-null    int64  \n",
      " 23  stem_cell_source           187 non-null    int64  \n",
      " 24  tx_post_relapse            187 non-null    int64  \n",
      " 25  CD34_x1e6_per_kg           187 non-null    float64\n",
      " 26  CD3_x1e8_per_kg            187 non-null    float64\n",
      " 27  CD3_to_CD34_ratio          187 non-null    float64\n",
      " 28  ANC_recovery               187 non-null    int64  \n",
      " 29  PLT_recovery               187 non-null    int64  \n",
      " 30  acute_GvHD_II_III_IV       187 non-null    int64  \n",
      " 31  acute_GvHD_III_IV          187 non-null    int64  \n",
      " 32  time_to_acute_GvHD_III_IV  187 non-null    int64  \n",
      " 33  extensive_chronic_GvHD     187 non-null    int64  \n",
      " 34  relapse                    187 non-null    int64  \n",
      " 35  survival_time              187 non-null    int64  \n",
      " 36  survival_status            187 non-null    int64  \n",
      "dtypes: float64(6), int64(22), object(9)\n",
      "memory usage: 54.2+ KB\n"
     ]
    }
   ],
   "source": [
    "df.info()"
   ]
  },
  {
   "cell_type": "markdown",
   "id": "2c7e16b4",
   "metadata": {},
   "source": [
    "### Listing of unique values for object type features (checking for the remaining object type features)"
   ]
  },
  {
   "cell_type": "code",
   "execution_count": 2074,
   "id": "df48d32f",
   "metadata": {
    "scrolled": true
   },
   "outputs": [
    {
     "data": {
      "text/plain": [
       "{'donor_ABO': ['A', 'B', 'AB', '0'],\n",
       " 'recipient_age_int': ['5_10', '0_5', '10_20'],\n",
       " 'recipient_ABO': ['A', 'B', 'AB', '0'],\n",
       " 'disease': ['ALL', 'AML', 'chronic', 'nonmalignant', 'lymphoma'],\n",
       " 'CMV_status': ['3', '0', '2', '1'],\n",
       " 'HLA_match': ['10/10', '9/10', '7/10', '8/10'],\n",
       " 'antigen': ['0', '2', '1', '3'],\n",
       " 'allel': ['0', '1', '3', '2', '4'],\n",
       " 'HLA_group_1': ['matched',\n",
       "  'one_antigen',\n",
       "  'mismatched',\n",
       "  'DRB1_cell',\n",
       "  'one_allel',\n",
       "  'two_diffs',\n",
       "  'three_diffs']}"
      ]
     },
     "execution_count": 2074,
     "metadata": {},
     "output_type": "execute_result"
    }
   ],
   "source": [
    "{column: list(df[column].unique()) for column in df.select_dtypes('object').columns}"
   ]
  },
  {
   "cell_type": "markdown",
   "id": "ea7887d5",
   "metadata": {},
   "source": [
    "### Selecting features having nominal type values"
   ]
  },
  {
   "cell_type": "code",
   "execution_count": 2075,
   "id": "aeda066a",
   "metadata": {},
   "outputs": [],
   "source": [
    "nominal=['donor_ABO','recipient_ABO','disease','HLA_group_1']"
   ]
  },
  {
   "cell_type": "markdown",
   "id": "dbf91417",
   "metadata": {},
   "source": [
    "### Selecting features having ordinal type values"
   ]
  },
  {
   "cell_type": "code",
   "execution_count": 2076,
   "id": "18b4173c",
   "metadata": {},
   "outputs": [],
   "source": [
    "ordinal=['recipient_age_int','HLA_match']"
   ]
  },
  {
   "cell_type": "markdown",
   "id": "83d34d8b",
   "metadata": {},
   "source": [
    "### Selecting features having numerical type values"
   ]
  },
  {
   "cell_type": "code",
   "execution_count": 2077,
   "id": "cf19b4b8",
   "metadata": {},
   "outputs": [],
   "source": [
    "numercical=['CMV_status','antigen','allel']"
   ]
  },
  {
   "cell_type": "markdown",
   "id": "e9ab1635",
   "metadata": {},
   "source": [
    "### Custom function for converting datatype to numerical type"
   ]
  },
  {
   "cell_type": "code",
   "execution_count": 2078,
   "id": "29a9bcdc",
   "metadata": {},
   "outputs": [],
   "source": [
    "def int_type_covertor(x):\n",
    "    if x == '?':\n",
    "        return 0\n",
    "    else: return int(x)\n",
    "   "
   ]
  },
  {
   "cell_type": "markdown",
   "id": "8b1f94b4",
   "metadata": {},
   "source": [
    "### Converting values from object to numerical type"
   ]
  },
  {
   "cell_type": "code",
   "execution_count": 2079,
   "id": "e58bf842",
   "metadata": {},
   "outputs": [],
   "source": [
    "for i in numercical:\n",
    "    df[i] = df[i].apply(int_type_covertor)"
   ]
  },
  {
   "cell_type": "markdown",
   "id": "b98a54e8",
   "metadata": {},
   "source": [
    "### Checking the change of datatype for the feature"
   ]
  },
  {
   "cell_type": "code",
   "execution_count": 2080,
   "id": "391d786f",
   "metadata": {},
   "outputs": [
    {
     "name": "stdout",
     "output_type": "stream",
     "text": [
      "<class 'pandas.core.frame.DataFrame'>\n",
      "RangeIndex: 187 entries, 0 to 186\n",
      "Data columns (total 37 columns):\n",
      " #   Column                     Non-Null Count  Dtype  \n",
      "---  ------                     --------------  -----  \n",
      " 0   donor_age                  187 non-null    float64\n",
      " 1   donor_age_below_35         187 non-null    int64  \n",
      " 2   donor_ABO                  187 non-null    object \n",
      " 3   donor_CMV                  187 non-null    int64  \n",
      " 4   recipient_age              187 non-null    float64\n",
      " 5   recipient_age_below_10     187 non-null    int64  \n",
      " 6   recipient_age_int          187 non-null    object \n",
      " 7   recipient_gender           187 non-null    int64  \n",
      " 8   recipient_body_mass        187 non-null    float64\n",
      " 9   recipient_ABO              187 non-null    object \n",
      " 10  recipient_rh               187 non-null    int64  \n",
      " 11  recipient_CMV              187 non-null    int64  \n",
      " 12  disease                    187 non-null    object \n",
      " 13  disease_group              187 non-null    int64  \n",
      " 14  gender_match               187 non-null    int64  \n",
      " 15  ABO_match                  187 non-null    int64  \n",
      " 16  CMV_status                 187 non-null    int64  \n",
      " 17  HLA_match                  187 non-null    object \n",
      " 18  HLA_mismatch               187 non-null    int64  \n",
      " 19  antigen                    187 non-null    int64  \n",
      " 20  allel                      187 non-null    int64  \n",
      " 21  HLA_group_1                187 non-null    object \n",
      " 22  risk_group                 187 non-null    int64  \n",
      " 23  stem_cell_source           187 non-null    int64  \n",
      " 24  tx_post_relapse            187 non-null    int64  \n",
      " 25  CD34_x1e6_per_kg           187 non-null    float64\n",
      " 26  CD3_x1e8_per_kg            187 non-null    float64\n",
      " 27  CD3_to_CD34_ratio          187 non-null    float64\n",
      " 28  ANC_recovery               187 non-null    int64  \n",
      " 29  PLT_recovery               187 non-null    int64  \n",
      " 30  acute_GvHD_II_III_IV       187 non-null    int64  \n",
      " 31  acute_GvHD_III_IV          187 non-null    int64  \n",
      " 32  time_to_acute_GvHD_III_IV  187 non-null    int64  \n",
      " 33  extensive_chronic_GvHD     187 non-null    int64  \n",
      " 34  relapse                    187 non-null    int64  \n",
      " 35  survival_time              187 non-null    int64  \n",
      " 36  survival_status            187 non-null    int64  \n",
      "dtypes: float64(6), int64(25), object(6)\n",
      "memory usage: 54.2+ KB\n"
     ]
    }
   ],
   "source": [
    "df.info()"
   ]
  },
  {
   "cell_type": "markdown",
   "id": "8e1cf197",
   "metadata": {},
   "source": [
    "### One-Hot Encoding for features have ordinal type values"
   ]
  },
  {
   "cell_type": "code",
   "execution_count": 2081,
   "id": "42226f78",
   "metadata": {},
   "outputs": [],
   "source": [
    "for i in ordinal:\n",
    "    df = pd.get_dummies(df, prefix=[i], columns=[i])"
   ]
  },
  {
   "cell_type": "markdown",
   "id": "a15ef86d",
   "metadata": {},
   "source": [
    "### Checking the new size of dataframes (Increasae in number of features due to One-Hot Encoding)"
   ]
  },
  {
   "cell_type": "code",
   "execution_count": 2082,
   "id": "0ae5ed8d",
   "metadata": {},
   "outputs": [
    {
     "data": {
      "text/plain": [
       "(187, 42)"
      ]
     },
     "execution_count": 2082,
     "metadata": {},
     "output_type": "execute_result"
    }
   ],
   "source": [
    "df.shape"
   ]
  },
  {
   "cell_type": "markdown",
   "id": "c05bf591",
   "metadata": {},
   "source": [
    "### Checking the change of datatype for the feature"
   ]
  },
  {
   "cell_type": "code",
   "execution_count": 2083,
   "id": "98d4dc50",
   "metadata": {},
   "outputs": [
    {
     "name": "stdout",
     "output_type": "stream",
     "text": [
      "<class 'pandas.core.frame.DataFrame'>\n",
      "RangeIndex: 187 entries, 0 to 186\n",
      "Data columns (total 42 columns):\n",
      " #   Column                     Non-Null Count  Dtype  \n",
      "---  ------                     --------------  -----  \n",
      " 0   donor_age                  187 non-null    float64\n",
      " 1   donor_age_below_35         187 non-null    int64  \n",
      " 2   donor_ABO                  187 non-null    object \n",
      " 3   donor_CMV                  187 non-null    int64  \n",
      " 4   recipient_age              187 non-null    float64\n",
      " 5   recipient_age_below_10     187 non-null    int64  \n",
      " 6   recipient_gender           187 non-null    int64  \n",
      " 7   recipient_body_mass        187 non-null    float64\n",
      " 8   recipient_ABO              187 non-null    object \n",
      " 9   recipient_rh               187 non-null    int64  \n",
      " 10  recipient_CMV              187 non-null    int64  \n",
      " 11  disease                    187 non-null    object \n",
      " 12  disease_group              187 non-null    int64  \n",
      " 13  gender_match               187 non-null    int64  \n",
      " 14  ABO_match                  187 non-null    int64  \n",
      " 15  CMV_status                 187 non-null    int64  \n",
      " 16  HLA_mismatch               187 non-null    int64  \n",
      " 17  antigen                    187 non-null    int64  \n",
      " 18  allel                      187 non-null    int64  \n",
      " 19  HLA_group_1                187 non-null    object \n",
      " 20  risk_group                 187 non-null    int64  \n",
      " 21  stem_cell_source           187 non-null    int64  \n",
      " 22  tx_post_relapse            187 non-null    int64  \n",
      " 23  CD34_x1e6_per_kg           187 non-null    float64\n",
      " 24  CD3_x1e8_per_kg            187 non-null    float64\n",
      " 25  CD3_to_CD34_ratio          187 non-null    float64\n",
      " 26  ANC_recovery               187 non-null    int64  \n",
      " 27  PLT_recovery               187 non-null    int64  \n",
      " 28  acute_GvHD_II_III_IV       187 non-null    int64  \n",
      " 29  acute_GvHD_III_IV          187 non-null    int64  \n",
      " 30  time_to_acute_GvHD_III_IV  187 non-null    int64  \n",
      " 31  extensive_chronic_GvHD     187 non-null    int64  \n",
      " 32  relapse                    187 non-null    int64  \n",
      " 33  survival_time              187 non-null    int64  \n",
      " 34  survival_status            187 non-null    int64  \n",
      " 35  recipient_age_int_0_5      187 non-null    uint8  \n",
      " 36  recipient_age_int_10_20    187 non-null    uint8  \n",
      " 37  recipient_age_int_5_10     187 non-null    uint8  \n",
      " 38  HLA_match_10/10            187 non-null    uint8  \n",
      " 39  HLA_match_7/10             187 non-null    uint8  \n",
      " 40  HLA_match_8/10             187 non-null    uint8  \n",
      " 41  HLA_match_9/10             187 non-null    uint8  \n",
      "dtypes: float64(6), int64(25), object(4), uint8(7)\n",
      "memory usage: 52.5+ KB\n"
     ]
    }
   ],
   "source": [
    "df.info()"
   ]
  },
  {
   "cell_type": "markdown",
   "id": "973d0205",
   "metadata": {},
   "source": [
    "### One-Hot Encoding for features have nominal type values"
   ]
  },
  {
   "cell_type": "code",
   "execution_count": 2084,
   "id": "78d485f0",
   "metadata": {},
   "outputs": [],
   "source": [
    "for i in nominal:\n",
    "    df = pd.get_dummies(df, prefix=[i], columns=[i])"
   ]
  },
  {
   "cell_type": "markdown",
   "id": "61b4c235",
   "metadata": {},
   "source": [
    "### Checking the new size of dataframes (Increasae in number of features due to One-Hot Encoding)"
   ]
  },
  {
   "cell_type": "code",
   "execution_count": 2085,
   "id": "02382356",
   "metadata": {},
   "outputs": [
    {
     "data": {
      "text/plain": [
       "(187, 58)"
      ]
     },
     "execution_count": 2085,
     "metadata": {},
     "output_type": "execute_result"
    }
   ],
   "source": [
    "df.shape"
   ]
  },
  {
   "cell_type": "markdown",
   "id": "e725bc8f",
   "metadata": {},
   "source": [
    "### Checking the change of datatype for the feature"
   ]
  },
  {
   "cell_type": "code",
   "execution_count": 2086,
   "id": "b454646d",
   "metadata": {},
   "outputs": [
    {
     "name": "stdout",
     "output_type": "stream",
     "text": [
      "<class 'pandas.core.frame.DataFrame'>\n",
      "RangeIndex: 187 entries, 0 to 186\n",
      "Data columns (total 58 columns):\n",
      " #   Column                     Non-Null Count  Dtype  \n",
      "---  ------                     --------------  -----  \n",
      " 0   donor_age                  187 non-null    float64\n",
      " 1   donor_age_below_35         187 non-null    int64  \n",
      " 2   donor_CMV                  187 non-null    int64  \n",
      " 3   recipient_age              187 non-null    float64\n",
      " 4   recipient_age_below_10     187 non-null    int64  \n",
      " 5   recipient_gender           187 non-null    int64  \n",
      " 6   recipient_body_mass        187 non-null    float64\n",
      " 7   recipient_rh               187 non-null    int64  \n",
      " 8   recipient_CMV              187 non-null    int64  \n",
      " 9   disease_group              187 non-null    int64  \n",
      " 10  gender_match               187 non-null    int64  \n",
      " 11  ABO_match                  187 non-null    int64  \n",
      " 12  CMV_status                 187 non-null    int64  \n",
      " 13  HLA_mismatch               187 non-null    int64  \n",
      " 14  antigen                    187 non-null    int64  \n",
      " 15  allel                      187 non-null    int64  \n",
      " 16  risk_group                 187 non-null    int64  \n",
      " 17  stem_cell_source           187 non-null    int64  \n",
      " 18  tx_post_relapse            187 non-null    int64  \n",
      " 19  CD34_x1e6_per_kg           187 non-null    float64\n",
      " 20  CD3_x1e8_per_kg            187 non-null    float64\n",
      " 21  CD3_to_CD34_ratio          187 non-null    float64\n",
      " 22  ANC_recovery               187 non-null    int64  \n",
      " 23  PLT_recovery               187 non-null    int64  \n",
      " 24  acute_GvHD_II_III_IV       187 non-null    int64  \n",
      " 25  acute_GvHD_III_IV          187 non-null    int64  \n",
      " 26  time_to_acute_GvHD_III_IV  187 non-null    int64  \n",
      " 27  extensive_chronic_GvHD     187 non-null    int64  \n",
      " 28  relapse                    187 non-null    int64  \n",
      " 29  survival_time              187 non-null    int64  \n",
      " 30  survival_status            187 non-null    int64  \n",
      " 31  recipient_age_int_0_5      187 non-null    uint8  \n",
      " 32  recipient_age_int_10_20    187 non-null    uint8  \n",
      " 33  recipient_age_int_5_10     187 non-null    uint8  \n",
      " 34  HLA_match_10/10            187 non-null    uint8  \n",
      " 35  HLA_match_7/10             187 non-null    uint8  \n",
      " 36  HLA_match_8/10             187 non-null    uint8  \n",
      " 37  HLA_match_9/10             187 non-null    uint8  \n",
      " 38  donor_ABO_0                187 non-null    uint8  \n",
      " 39  donor_ABO_A                187 non-null    uint8  \n",
      " 40  donor_ABO_AB               187 non-null    uint8  \n",
      " 41  donor_ABO_B                187 non-null    uint8  \n",
      " 42  recipient_ABO_0            187 non-null    uint8  \n",
      " 43  recipient_ABO_A            187 non-null    uint8  \n",
      " 44  recipient_ABO_AB           187 non-null    uint8  \n",
      " 45  recipient_ABO_B            187 non-null    uint8  \n",
      " 46  disease_ALL                187 non-null    uint8  \n",
      " 47  disease_AML                187 non-null    uint8  \n",
      " 48  disease_chronic            187 non-null    uint8  \n",
      " 49  disease_lymphoma           187 non-null    uint8  \n",
      " 50  disease_nonmalignant       187 non-null    uint8  \n",
      " 51  HLA_group_1_DRB1_cell      187 non-null    uint8  \n",
      " 52  HLA_group_1_matched        187 non-null    uint8  \n",
      " 53  HLA_group_1_mismatched     187 non-null    uint8  \n",
      " 54  HLA_group_1_one_allel      187 non-null    uint8  \n",
      " 55  HLA_group_1_one_antigen    187 non-null    uint8  \n",
      " 56  HLA_group_1_three_diffs    187 non-null    uint8  \n",
      " 57  HLA_group_1_two_diffs      187 non-null    uint8  \n",
      "dtypes: float64(6), int64(25), uint8(27)\n",
      "memory usage: 50.3 KB\n"
     ]
    }
   ],
   "source": [
    "df.info()"
   ]
  },
  {
   "cell_type": "markdown",
   "id": "e75b2dcf",
   "metadata": {},
   "source": [
    "###  \n",
    "## Model Building\n",
    "###  "
   ]
  },
  {
   "cell_type": "code",
   "execution_count": 2087,
   "id": "f886b995",
   "metadata": {},
   "outputs": [],
   "source": [
    "x = df.drop(['survival_status'], axis = 1)\n",
    "y = df['survival_status'].astype(int)"
   ]
  },
  {
   "cell_type": "code",
   "execution_count": 2088,
   "id": "09905ca0",
   "metadata": {},
   "outputs": [],
   "source": [
    "from sklearn.feature_selection import SelectKBest\n",
    "from sklearn.feature_selection import chi2\n",
    "\n",
    "chi2_features = SelectKBest(chi2, k = 6)\n",
    "X_kbest_features = chi2_features.fit_transform(x, y)"
   ]
  },
  {
   "cell_type": "code",
   "execution_count": 2089,
   "id": "d05e6ba1",
   "metadata": {},
   "outputs": [
    {
     "data": {
      "text/plain": [
       "array(['recipient_body_mass', 'CD34_x1e6_per_kg', 'ANC_recovery',\n",
       "       'PLT_recovery', 'time_to_acute_GvHD_III_IV', 'survival_time'],\n",
       "      dtype=object)"
      ]
     },
     "execution_count": 2089,
     "metadata": {},
     "output_type": "execute_result"
    }
   ],
   "source": [
    "chi2_features.get_feature_names_out(input_features=None)"
   ]
  },
  {
   "cell_type": "markdown",
   "id": "96de01cf",
   "metadata": {},
   "source": [
    "###  \n",
    "### Splitting the dataset into train:80% and test:20%\n",
    "###  "
   ]
  },
  {
   "cell_type": "code",
   "execution_count": 2090,
   "id": "e325a3d5",
   "metadata": {},
   "outputs": [],
   "source": [
    "from sklearn.model_selection import train_test_split\n",
    "x_train, x_test, y_train, y_test = train_test_split(X_kbest_features, y, random_state = 0 , test_size = 0.2)"
   ]
  },
  {
   "cell_type": "code",
   "execution_count": 2091,
   "id": "31c93a7f",
   "metadata": {},
   "outputs": [],
   "source": [
    "from sklearn.metrics import classification_report, confusion_matrix, accuracy_score"
   ]
  },
  {
   "cell_type": "markdown",
   "id": "a1b806a6",
   "metadata": {},
   "source": [
    "###  \n",
    "### Lists to hold the values to be printed\n",
    "###  "
   ]
  },
  {
   "cell_type": "code",
   "execution_count": 2092,
   "id": "c8f1f730",
   "metadata": {},
   "outputs": [],
   "source": [
    "accuracy_comp = []"
   ]
  },
  {
   "cell_type": "code",
   "execution_count": 2093,
   "id": "4cb46293",
   "metadata": {},
   "outputs": [],
   "source": [
    "precision_comp = []"
   ]
  },
  {
   "cell_type": "code",
   "execution_count": 2094,
   "id": "e2d3c08d",
   "metadata": {},
   "outputs": [],
   "source": [
    "recall_comp = []"
   ]
  },
  {
   "cell_type": "code",
   "execution_count": 2095,
   "id": "19d51290",
   "metadata": {},
   "outputs": [],
   "source": [
    "f1score_comp = []"
   ]
  },
  {
   "cell_type": "markdown",
   "id": "df08cd3c",
   "metadata": {},
   "source": [
    "## Models/Algorithms"
   ]
  },
  {
   "cell_type": "markdown",
   "id": "8d4df338",
   "metadata": {},
   "source": [
    "###  \n",
    "## Logistic Regression\n",
    "###  "
   ]
  },
  {
   "cell_type": "code",
   "execution_count": 2096,
   "id": "4462de38",
   "metadata": {},
   "outputs": [
    {
     "name": "stdout",
     "output_type": "stream",
     "text": [
      "Confusion Matrix:\n",
      " [[17  2]\n",
      " [ 5 14]]\n",
      "\n",
      "Classification Report:\n",
      "\n",
      "               precision    recall  f1-score   support\n",
      "\n",
      "           0       0.77      0.89      0.83        19\n",
      "           1       0.88      0.74      0.80        19\n",
      "\n",
      "    accuracy                           0.82        38\n",
      "   macro avg       0.82      0.82      0.81        38\n",
      "weighted avg       0.82      0.82      0.81        38\n",
      "\n",
      "\n",
      "Accuracy= 81.58%\n"
     ]
    }
   ],
   "source": [
    "from sklearn.linear_model import LogisticRegression\n",
    "lr = LogisticRegression()\n",
    "lr.fit(x_train,y_train)\n",
    "predictions = lr.predict(x_test)\n",
    "\n",
    "print('Confusion Matrix:\\n',confusion_matrix(y_test, predictions))\n",
    "print('\\nClassification Report:\\n\\n',classification_report(y_test, predictions))\n",
    "acc = accuracy_score(y_test, predictions)\n",
    "prec = precision_score(y_test, predictions)\n",
    "rec = recall_score(y_test, predictions)\n",
    "f1 = f1_score(y_test, predictions)\n",
    "acc_perc = np.round(acc*100, 2)\n",
    "print('\\nAccuracy=',str(acc_perc)+'%')\n",
    "\n",
    "accuracy_comp.append(acc_perc)\n",
    "precision_comp.append(prec)\n",
    "recall_comp.append(rec)\n",
    "f1score_comp.append(f1)"
   ]
  },
  {
   "cell_type": "markdown",
   "id": "75ec1757",
   "metadata": {},
   "source": [
    "###  \n",
    "## Decision Tree Classifier\n",
    "###  "
   ]
  },
  {
   "cell_type": "code",
   "execution_count": 2097,
   "id": "daf1b483",
   "metadata": {},
   "outputs": [
    {
     "name": "stdout",
     "output_type": "stream",
     "text": [
      "Confusion Matrix:\n",
      " [[18  1]\n",
      " [ 2 17]]\n",
      "\n",
      "Classification Report:\n",
      "\n",
      "               precision    recall  f1-score   support\n",
      "\n",
      "           0       0.90      0.95      0.92        19\n",
      "           1       0.94      0.89      0.92        19\n",
      "\n",
      "    accuracy                           0.92        38\n",
      "   macro avg       0.92      0.92      0.92        38\n",
      "weighted avg       0.92      0.92      0.92        38\n",
      "\n",
      "\n",
      "Accuracy= 92.11%\n"
     ]
    }
   ],
   "source": [
    "from sklearn.tree import DecisionTreeClassifier\n",
    "dt = DecisionTreeClassifier()\n",
    "dt.fit(x_train,y_train)\n",
    "predictions = dt.predict(x_test)\n",
    "\n",
    "print('Confusion Matrix:\\n',confusion_matrix(y_test, predictions))\n",
    "print('\\nClassification Report:\\n\\n',classification_report(y_test, predictions))\n",
    "acc = accuracy_score(y_test, predictions)\n",
    "prec = precision_score(y_test, predictions)\n",
    "rec = recall_score(y_test, predictions)\n",
    "f1 = f1_score(y_test, predictions)\n",
    "acc_perc = np.round(acc*100, 2)\n",
    "print('\\nAccuracy=',str(acc_perc)+'%')\n",
    "\n",
    "accuracy_comp.append(acc_perc)\n",
    "precision_comp.append(prec)\n",
    "recall_comp.append(rec)\n",
    "f1score_comp.append(f1)"
   ]
  },
  {
   "cell_type": "markdown",
   "id": "21757527",
   "metadata": {},
   "source": [
    "###  \n",
    "## Random Forest Classifier\n",
    "###  "
   ]
  },
  {
   "cell_type": "code",
   "execution_count": 2098,
   "id": "ee8568e0",
   "metadata": {},
   "outputs": [
    {
     "name": "stdout",
     "output_type": "stream",
     "text": [
      "Confusion Matrix:\n",
      " [[19  0]\n",
      " [ 2 17]]\n",
      "\n",
      "Classification Report:\n",
      "\n",
      "               precision    recall  f1-score   support\n",
      "\n",
      "           0       0.90      1.00      0.95        19\n",
      "           1       1.00      0.89      0.94        19\n",
      "\n",
      "    accuracy                           0.95        38\n",
      "   macro avg       0.95      0.95      0.95        38\n",
      "weighted avg       0.95      0.95      0.95        38\n",
      "\n",
      "\n",
      "Accuracy= 94.74%\n"
     ]
    }
   ],
   "source": [
    "from sklearn.ensemble import RandomForestClassifier\n",
    "rf = RandomForestClassifier()\n",
    "rf.fit(x_train,y_train)\n",
    "predictions = rf.predict(x_test)\n",
    "\n",
    "print('Confusion Matrix:\\n',confusion_matrix(y_test, predictions))\n",
    "print('\\nClassification Report:\\n\\n',classification_report(y_test, predictions))\n",
    "acc = accuracy_score(y_test, predictions)\n",
    "prec = precision_score(y_test, predictions)\n",
    "rec = recall_score(y_test, predictions)\n",
    "f1 = f1_score(y_test, predictions)\n",
    "acc_perc = np.round(acc*100, 2)\n",
    "print('\\nAccuracy=',str(acc_perc)+'%')\n",
    "\n",
    "accuracy_comp.append(acc_perc)\n",
    "precision_comp.append(prec)\n",
    "recall_comp.append(rec)\n",
    "f1score_comp.append(f1)"
   ]
  },
  {
   "cell_type": "markdown",
   "id": "be4d08bd",
   "metadata": {},
   "source": [
    "###  \n",
    "## XGBoost\n",
    "###  "
   ]
  },
  {
   "cell_type": "code",
   "execution_count": 2099,
   "id": "941d0991",
   "metadata": {},
   "outputs": [
    {
     "name": "stdout",
     "output_type": "stream",
     "text": [
      "Confusion Matrix:\n",
      " [[19  0]\n",
      " [ 2 17]]\n",
      "\n",
      "Classification Report:\n",
      "\n",
      "               precision    recall  f1-score   support\n",
      "\n",
      "           0       0.90      1.00      0.95        19\n",
      "           1       1.00      0.89      0.94        19\n",
      "\n",
      "    accuracy                           0.95        38\n",
      "   macro avg       0.95      0.95      0.95        38\n",
      "weighted avg       0.95      0.95      0.95        38\n",
      "\n",
      "\n",
      "Accuracy= 94.74%\n"
     ]
    }
   ],
   "source": [
    "import xgboost as xgb\n",
    "xgb = xgb.XGBClassifier()\n",
    "xgb.fit(x_train, y_train)\n",
    "pred = xgb.predict(x_test)\n",
    "acc = accuracy_score(y_test, predictions)\n",
    "\n",
    "print('Confusion Matrix:\\n',confusion_matrix(y_test, predictions))\n",
    "print('\\nClassification Report:\\n\\n',classification_report(y_test, predictions))\n",
    "acc = accuracy_score(y_test, predictions)\n",
    "prec = precision_score(y_test, predictions)\n",
    "rec = recall_score(y_test, predictions)\n",
    "f1 = f1_score(y_test, predictions)\n",
    "acc_perc = np.round(acc*100, 2)\n",
    "print('\\nAccuracy=',str(acc_perc)+'%')\n",
    "\n",
    "accuracy_comp.append(acc_perc)\n",
    "precision_comp.append(prec)\n",
    "recall_comp.append(rec)\n",
    "f1score_comp.append(f1)"
   ]
  },
  {
   "cell_type": "markdown",
   "id": "9941d3ce",
   "metadata": {},
   "source": [
    "###  \n",
    "## KNN\n",
    "###  "
   ]
  },
  {
   "cell_type": "code",
   "execution_count": 2100,
   "id": "4ebb4c38",
   "metadata": {},
   "outputs": [
    {
     "name": "stdout",
     "output_type": "stream",
     "text": [
      "Confusion Matrix:\n",
      " [[17  2]\n",
      " [ 2 17]]\n",
      "\n",
      "Classification Report:\n",
      "\n",
      "               precision    recall  f1-score   support\n",
      "\n",
      "           0       0.89      0.89      0.89        19\n",
      "           1       0.89      0.89      0.89        19\n",
      "\n",
      "    accuracy                           0.89        38\n",
      "   macro avg       0.89      0.89      0.89        38\n",
      "weighted avg       0.89      0.89      0.89        38\n",
      "\n",
      "\n",
      "Accuracy= 89.47%\n"
     ]
    }
   ],
   "source": [
    "from sklearn.neighbors import KNeighborsClassifier\n",
    "knn = KNeighborsClassifier(n_neighbors=1)\n",
    "knn.fit(x_train,y_train)\n",
    "predictions = knn.predict(x_test)\n",
    "\n",
    "print('Confusion Matrix:\\n',confusion_matrix(y_test, predictions))\n",
    "print('\\nClassification Report:\\n\\n',classification_report(y_test, predictions))\n",
    "acc = accuracy_score(y_test, predictions)\n",
    "prec = precision_score(y_test, predictions)\n",
    "rec = recall_score(y_test, predictions)\n",
    "f1 = f1_score(y_test, predictions)\n",
    "acc_perc = np.round(acc*100, 2)\n",
    "print('\\nAccuracy=',str(acc_perc)+'%')\n",
    "\n",
    "accuracy_comp.append(acc_perc)\n",
    "precision_comp.append(prec)\n",
    "recall_comp.append(rec)\n",
    "f1score_comp.append(f1)"
   ]
  },
  {
   "cell_type": "markdown",
   "id": "60c46467",
   "metadata": {},
   "source": [
    "###  \n",
    "## Naive Bayes - Bernoulli\n",
    "###  "
   ]
  },
  {
   "cell_type": "code",
   "execution_count": 2101,
   "id": "bb41b98b",
   "metadata": {
    "scrolled": true
   },
   "outputs": [
    {
     "name": "stdout",
     "output_type": "stream",
     "text": [
      "Confusion Matrix:\n",
      " [[19  0]\n",
      " [19  0]]\n",
      "\n",
      "Classification Report:\n",
      "\n",
      "               precision    recall  f1-score   support\n",
      "\n",
      "           0       0.50      1.00      0.67        19\n",
      "           1       0.00      0.00      0.00        19\n",
      "\n",
      "    accuracy                           0.50        38\n",
      "   macro avg       0.25      0.50      0.33        38\n",
      "weighted avg       0.25      0.50      0.33        38\n",
      "\n",
      "\n",
      "Accuracy= 50.0%\n"
     ]
    }
   ],
   "source": [
    "from sklearn.naive_bayes import BernoulliNB\n",
    "nbb = BernoulliNB()\n",
    "nbb.fit(x_train, y_train)\n",
    "predictions = nbb.predict(x_test)\n",
    "\n",
    "print('Confusion Matrix:\\n',confusion_matrix(y_test, predictions))\n",
    "print('\\nClassification Report:\\n\\n',classification_report(y_test, predictions))\n",
    "acc = accuracy_score(y_test, predictions)\n",
    "prec = precision_score(y_test, predictions)\n",
    "rec = recall_score(y_test, predictions)\n",
    "f1 = f1_score(y_test, predictions)\n",
    "acc_perc = np.round(acc*100, 2)\n",
    "print('\\nAccuracy=',str(acc_perc)+'%')\n",
    "\n",
    "accuracy_comp.append(acc_perc)\n",
    "precision_comp.append(prec)\n",
    "recall_comp.append(rec)\n",
    "f1score_comp.append(f1)"
   ]
  },
  {
   "cell_type": "markdown",
   "id": "8c365e7e",
   "metadata": {},
   "source": [
    "## SVM\n",
    "### "
   ]
  },
  {
   "cell_type": "code",
   "execution_count": 2102,
   "id": "11ab2051",
   "metadata": {},
   "outputs": [
    {
     "name": "stdout",
     "output_type": "stream",
     "text": [
      "Confusion Matrix:\n",
      " [[17  2]\n",
      " [ 2 17]]\n",
      "\n",
      "Classification Report:\n",
      "\n",
      "               precision    recall  f1-score   support\n",
      "\n",
      "           0       0.89      0.89      0.89        19\n",
      "           1       0.89      0.89      0.89        19\n",
      "\n",
      "    accuracy                           0.89        38\n",
      "   macro avg       0.89      0.89      0.89        38\n",
      "weighted avg       0.89      0.89      0.89        38\n",
      "\n",
      "\n",
      "Accuracy= 89.47%\n"
     ]
    }
   ],
   "source": [
    "from sklearn.svm import SVC\n",
    "from sklearn import preprocessing\n",
    "X_train = preprocessing.scale(x_train)\n",
    "X_test = preprocessing.scale(x_test)\n",
    "svm = SVC(kernel='linear')\n",
    "svm.fit(X_train, y_train)\n",
    "predictions = svm.predict(X_test)\n",
    "\n",
    "print('Confusion Matrix:\\n',confusion_matrix(y_test, predictions))\n",
    "print('\\nClassification Report:\\n\\n',classification_report(y_test, predictions))\n",
    "acc = accuracy_score(y_test, predictions)\n",
    "prec = precision_score(y_test, predictions)\n",
    "rec = recall_score(y_test, predictions)\n",
    "f1 = f1_score(y_test, predictions)\n",
    "acc_perc = np.round(acc*100, 2)\n",
    "print('\\nAccuracy=',str(acc_perc)+'%')\n",
    "\n",
    "accuracy_comp.append(acc_perc)\n",
    "precision_comp.append(prec)\n",
    "recall_comp.append(rec)\n",
    "f1score_comp.append(f1)"
   ]
  },
  {
   "cell_type": "markdown",
   "id": "7858f2fe",
   "metadata": {},
   "source": [
    "## Perceptron\n",
    "### "
   ]
  },
  {
   "cell_type": "code",
   "execution_count": 2103,
   "id": "295f8d96",
   "metadata": {},
   "outputs": [
    {
     "name": "stdout",
     "output_type": "stream",
     "text": [
      "Confusion Matrix:\n",
      " [[11  8]\n",
      " [ 2 17]]\n",
      "\n",
      "Classification Report:\n",
      "\n",
      "               precision    recall  f1-score   support\n",
      "\n",
      "           0       0.85      0.58      0.69        19\n",
      "           1       0.68      0.89      0.77        19\n",
      "\n",
      "    accuracy                           0.74        38\n",
      "   macro avg       0.76      0.74      0.73        38\n",
      "weighted avg       0.76      0.74      0.73        38\n",
      "\n",
      "\n",
      "Accuracy= 73.68%\n"
     ]
    }
   ],
   "source": [
    "from sklearn.linear_model import Perceptron\n",
    "clf=Perceptron(fit_intercept=False, max_iter=10, tol=None,shuffle=False).fit(x_train, y_train)\n",
    "predictions = clf.predict(x_test)\n",
    "\n",
    "\n",
    "print('Confusion Matrix:\\n',confusion_matrix(y_test, predictions))\n",
    "print('\\nClassification Report:\\n\\n',classification_report(y_test, predictions))\n",
    "acc = accuracy_score(y_test, predictions)\n",
    "prec = precision_score(y_test, predictions)\n",
    "rec = recall_score(y_test, predictions)\n",
    "f1 = f1_score(y_test, predictions)\n",
    "acc_perc = np.round(acc*100, 2)\n",
    "print('\\nAccuracy=',str(acc_perc)+'%')\n",
    "\n",
    "accuracy_comp.append(acc_perc)\n",
    "precision_comp.append(prec)\n",
    "recall_comp.append(rec)\n",
    "f1score_comp.append(f1)"
   ]
  },
  {
   "cell_type": "markdown",
   "id": "32840044",
   "metadata": {},
   "source": [
    "## Multi Layer Perceptron\n",
    "### "
   ]
  },
  {
   "cell_type": "code",
   "execution_count": 2104,
   "id": "f90d14fd",
   "metadata": {
    "scrolled": true
   },
   "outputs": [
    {
     "name": "stdout",
     "output_type": "stream",
     "text": [
      "Confusion Matrix:\n",
      " [[18  1]\n",
      " [ 2 17]]\n",
      "\n",
      "Classification Report:\n",
      "\n",
      "               precision    recall  f1-score   support\n",
      "\n",
      "           0       0.90      0.95      0.92        19\n",
      "           1       0.94      0.89      0.92        19\n",
      "\n",
      "    accuracy                           0.92        38\n",
      "   macro avg       0.92      0.92      0.92        38\n",
      "weighted avg       0.92      0.92      0.92        38\n",
      "\n",
      "\n",
      "Accuracy= 92.11%\n"
     ]
    }
   ],
   "source": [
    "from sklearn.preprocessing import StandardScaler  \n",
    "scaler = StandardScaler() \n",
    "scaler.fit(x_train)  \n",
    "X_train = scaler.transform(x_train)  \n",
    "X_test = scaler.transform(x_test) \n",
    "\n",
    "from sklearn.neural_network import MLPClassifier\n",
    "clf2 = MLPClassifier(solver='lbfgs', alpha=1e-5,hidden_layer_sizes=(5, 2), random_state=1)\n",
    "clf2.fit(X_train, y_train)\n",
    "MLPClassifier(alpha=1e-05, hidden_layer_sizes=(5, 2), random_state=1,\n",
    "              solver='lbfgs')\n",
    "predictions = clf2.predict(X_test)\n",
    "\n",
    "\n",
    "print('Confusion Matrix:\\n',confusion_matrix(y_test, predictions))\n",
    "print('\\nClassification Report:\\n\\n',classification_report(y_test, predictions))\n",
    "acc = accuracy_score(y_test, predictions)\n",
    "prec = precision_score(y_test, predictions)\n",
    "rec = recall_score(y_test, predictions)\n",
    "f1 = f1_score(y_test, predictions)\n",
    "acc_perc = np.round(acc*100, 2)\n",
    "print('\\nAccuracy=',str(acc_perc)+'%')\n",
    "\n",
    "accuracy_comp.append(acc_perc)\n",
    "precision_comp.append(prec)\n",
    "recall_comp.append(rec)\n",
    "f1score_comp.append(f1)"
   ]
  },
  {
   "cell_type": "markdown",
   "id": "7d3a0d68",
   "metadata": {},
   "source": [
    "## Naive Bayes Gaussian"
   ]
  },
  {
   "cell_type": "code",
   "execution_count": 2105,
   "id": "21ff7f86",
   "metadata": {},
   "outputs": [
    {
     "name": "stdout",
     "output_type": "stream",
     "text": [
      "Confusion Matrix:\n",
      " [[ 0 19]\n",
      " [ 0 19]]\n",
      "\n",
      "Classification Report:\n",
      "\n",
      "               precision    recall  f1-score   support\n",
      "\n",
      "           0       0.00      0.00      0.00        19\n",
      "           1       0.50      1.00      0.67        19\n",
      "\n",
      "    accuracy                           0.50        38\n",
      "   macro avg       0.25      0.50      0.33        38\n",
      "weighted avg       0.25      0.50      0.33        38\n",
      "\n",
      "\n",
      "Accuracy= 50.0%\n"
     ]
    }
   ],
   "source": [
    "from sklearn.naive_bayes import GaussianNB\n",
    "from sklearn import preprocessing\n",
    "X_train = preprocessing.scale(x_train)\n",
    "X_test = preprocessing.scale(x_test)\n",
    "nbb = GaussianNB()\n",
    "nbb.fit(X_train, y_train)\n",
    "predictions = nbb.predict(X_test)\n",
    "\n",
    "print('Confusion Matrix:\\n',confusion_matrix(y_test, predictions))\n",
    "print('\\nClassification Report:\\n\\n',classification_report(y_test, predictions))\n",
    "acc = accuracy_score(y_test, predictions)\n",
    "prec = precision_score(y_test, predictions)\n",
    "rec = recall_score(y_test, predictions)\n",
    "f1 = f1_score(y_test, predictions)\n",
    "acc_perc = np.round(acc*100, 2)\n",
    "print('\\nAccuracy=',str(acc_perc)+'%')\n",
    "\n",
    "accuracy_comp.append(acc_perc)\n",
    "precision_comp.append(prec)\n",
    "recall_comp.append(rec)\n",
    "f1score_comp.append(f1)"
   ]
  },
  {
   "cell_type": "markdown",
   "id": "95a71049",
   "metadata": {},
   "source": [
    "###  \n",
    "## RESULTS\n",
    "###  "
   ]
  },
  {
   "cell_type": "code",
   "execution_count": 2106,
   "id": "5382e010",
   "metadata": {
    "scrolled": false
   },
   "outputs": [
    {
     "data": {
      "text/plain": [
       "Text(0.5, 1.0, 'Comparison Of Accuracy of the used ML models')"
      ]
     },
     "execution_count": 2106,
     "metadata": {},
     "output_type": "execute_result"
    },
    {
     "data": {
      "image/png": "[encoded data removed]",
      "text/plain": [
       "<Figure size 1000x500 with 1 Axes>"
      ]
     },
     "metadata": {},
     "output_type": "display_data"
    }
   ],
   "source": [
    "plt.figure(figsize=(10,5))\n",
    "plt.plot(['Logistic \\nRegression','Decision \\nTree \\nClassifier','Random \\nForest \\nClassfier',\n",
    "         'XGBoost','KNN','Naive \\nBayes-\\nBernoulli','SVM','Perceptron','MLP','Naive \\nBayes-\\nGaussian'],accuracy_comp, 'o-')\n",
    "plt.xlabel(\"Models\")\n",
    "plt.ylabel(\"Accuracy %\")\n",
    "plt.title(\"Comparison Of Accuracy of the used ML models\")"
   ]
  },
  {
   "cell_type": "code",
   "execution_count": 2107,
   "id": "e5d484f6",
   "metadata": {
    "scrolled": false
   },
   "outputs": [
    {
     "name": "stdout",
     "output_type": "stream",
     "text": [
      "Accuracies of models are:\n",
      "\n",
      "Logistic Regression : 81.58%\n",
      "Decision Tree Classifier : 92.11%\n",
      "Random Forest Classfier : 94.74%\n",
      "XGBoost : 94.74%\n",
      "KNN : 89.47%\n",
      "Naive Bayes-Bernoulli : 50.0%\n",
      "SVM : 89.47%\n",
      "Pereceptron : 73.68%\n",
      "MLP : 92.11%\n",
      "Naive \n",
      "Bayes-\n",
      "Gaussian : 50.0%\n"
     ]
    }
   ],
   "source": [
    "models= ['Logistic Regression','Decision Tree Classifier','Random Forest Classfier',\n",
    "         'XGBoost','KNN','Naive Bayes-Bernoulli','SVM','Pereceptron','MLP','Naive \\nBayes-\\nGaussian']\n",
    "print('Accuracies of models are:\\n')\n",
    "for i in range(10) :\n",
    "        print(models[i],':',str(accuracy_comp[i])+'%')"
   ]
  },
  {
   "cell_type": "code",
   "execution_count": 2108,
   "id": "13278f12",
   "metadata": {},
   "outputs": [
    {
     "data": {
      "text/plain": [
       "Text(0.5, 1.0, 'Comparison Of Precision of the used ML models')"
      ]
     },
     "execution_count": 2108,
     "metadata": {},
     "output_type": "execute_result"
    },
    {
     "data": {
      "image/png": "[encoded data removed]",
      "text/plain": [
       "<Figure size 1000x500 with 1 Axes>"
      ]
     },
     "metadata": {},
     "output_type": "display_data"
    }
   ],
   "source": [
    "plt.figure(figsize=(10,5))\n",
    "plt.plot(['Logistic \\nRegression','Decision \\nTree \\nClassifier','Random \\nForest \\nClassfier',\n",
    "         'XGBoost','KNN','Naive \\nBayes-\\nBernoulli','SVM','Pereceptron','MLP','Naive \\nBayes-\\nGaussian'],precision_comp, 'o-')\n",
    "plt.xlabel(\"Models\")\n",
    "plt.ylabel(\"Precision\")\n",
    "plt.title(\"Comparison Of Precision of the used ML models\")"
   ]
  },
  {
   "cell_type": "code",
   "execution_count": 2109,
   "id": "a2c3aef6",
   "metadata": {},
   "outputs": [
    {
     "name": "stdout",
     "output_type": "stream",
     "text": [
      "Precision of models are:\n",
      "\n",
      "Logistic Regression : 0.875\n",
      "Decision Tree Classifier : 0.9444444444444444\n",
      "Random Forest Classfier : 1.0\n",
      "XGBoost : 1.0\n",
      "KNN : 0.8947368421052632\n",
      "Naive Bayes-Bernoulli : 0.0\n",
      "SVM : 0.8947368421052632\n",
      "Perceptron : 0.68\n",
      "MLP : 0.9444444444444444\n",
      "Naive \n",
      "Bayes-\n",
      "Gaussian : 0.5\n"
     ]
    }
   ],
   "source": [
    "models= ['Logistic Regression','Decision Tree Classifier','Random Forest Classfier',\n",
    "         'XGBoost','KNN','Naive Bayes-Bernoulli','SVM','Perceptron','MLP','Naive \\nBayes-\\nGaussian']\n",
    "print('Precision of models are:\\n')\n",
    "for i in range(10) :\n",
    "        print(models[i],':',str(precision_comp[i]))"
   ]
  },
  {
   "cell_type": "code",
   "execution_count": 2110,
   "id": "091a2a39",
   "metadata": {},
   "outputs": [
    {
     "data": {
      "text/plain": [
       "Text(0.5, 1.0, 'Comparison Of Recall of the used ML models')"
      ]
     },
     "execution_count": 2110,
     "metadata": {},
     "output_type": "execute_result"
    },
    {
     "data": {
      "image/png": "[encoded data removed]",
      "text/plain": [
       "<Figure size 1000x500 with 1 Axes>"
      ]
     },
     "metadata": {},
     "output_type": "display_data"
    }
   ],
   "source": [
    "plt.figure(figsize=(10,5))\n",
    "plt.plot(['Logistic \\nRegression','Decision \\nTree \\nClassifier','Random \\nForest \\nClassfier',\n",
    "         'XGBoost','KNN','Naive \\nBayes-\\nBernoulli','SVM','Perceptron','MLP','Naive \\nBayes-\\nGaussian'],recall_comp, 'o-')\n",
    "plt.xlabel(\"Models\")\n",
    "plt.ylabel(\"Recall\")\n",
    "plt.title(\"Comparison Of Recall of the used ML models\")"
   ]
  },
  {
   "cell_type": "code",
   "execution_count": 2111,
   "id": "8a70ed9e",
   "metadata": {
    "scrolled": true
   },
   "outputs": [
    {
     "name": "stdout",
     "output_type": "stream",
     "text": [
      "Recall of models are:\n",
      "\n",
      "Logistic Regression : 0.7368421052631579\n",
      "Decision Tree Classifier : 0.8947368421052632\n",
      "Random Forest Classfier : 0.8947368421052632\n",
      "XGBoost : 0.8947368421052632\n",
      "KNN : 0.8947368421052632\n",
      "Naive Bayes-Bernoulli : 0.0\n",
      "SVM : 0.8947368421052632\n",
      "Perceptron : 0.8947368421052632\n",
      "MLP : 0.8947368421052632\n",
      "Naive \n",
      "Bayes-\n",
      "Gaussian : 1.0\n"
     ]
    }
   ],
   "source": [
    "models= ['Logistic Regression','Decision Tree Classifier','Random Forest Classfier',\n",
    "         'XGBoost','KNN','Naive Bayes-Bernoulli','SVM','Perceptron','MLP','Naive \\nBayes-\\nGaussian']\n",
    "print('Recall of models are:\\n')\n",
    "for i in range(10) :\n",
    "        print(models[i],':',str(recall_comp[i]))"
   ]
  },
  {
   "cell_type": "code",
   "execution_count": 2112,
   "id": "53ce753a",
   "metadata": {},
   "outputs": [
    {
     "data": {
      "text/plain": [
       "Text(0.5, 1.0, 'Comparison Of F1-Score of the used ML models')"
      ]
     },
     "execution_count": 2112,
     "metadata": {},
     "output_type": "execute_result"
    },
    {
     "data": {
      "image/png": "[encoded data removed]",
      "text/plain": [
       "<Figure size 1000x500 with 1 Axes>"
      ]
     },
     "metadata": {},
     "output_type": "display_data"
    }
   ],
   "source": [
    "plt.figure(figsize=(10,5))\n",
    "plt.plot(['Logistic \\nRegression','Decision \\nTree \\nClassifier','Random \\nForest \\nClassfier',\n",
    "         'XGBoost','KNN','Naive \\nBayes-\\nBernoulli','SVM','Perceptron','MLP','Naive \\nBayes-\\nGaussian'],f1score_comp, 'o-')\n",
    "plt.xlabel(\"Models\")\n",
    "plt.ylabel(\"F1-Score\")\n",
    "plt.title(\"Comparison Of F1-Score of the used ML models\")"
   ]
  },
  {
   "cell_type": "code",
   "execution_count": 2113,
   "id": "d034691b",
   "metadata": {},
   "outputs": [
    {
     "name": "stdout",
     "output_type": "stream",
     "text": [
      "F1-Score of models are:\n",
      "\n",
      "Logistic Regression : 0.7999999999999999\n",
      "Decision Tree Classifier : 0.918918918918919\n",
      "Random Forest Classfier : 0.9444444444444444\n",
      "XGBoost : 0.9444444444444444\n",
      "KNN : 0.8947368421052632\n",
      "Naive Bayes-Bernoulli : 0.0\n",
      "SVM : 0.8947368421052632\n",
      "Perceptron : 0.7727272727272727\n",
      "MLP : 0.918918918918919\n",
      "Naive \n",
      "Bayes-\n",
      "Gaussian : 0.6666666666666666\n"
     ]
    }
   ],
   "source": [
    "models= ['Logistic Regression','Decision Tree Classifier','Random Forest Classfier',\n",
    "         'XGBoost','KNN','Naive Bayes-Bernoulli','SVM','Perceptron','MLP','Naive \\nBayes-\\nGaussian']\n",
    "print('F1-Score of models are:\\n')\n",
    "for i in range(10) :\n",
    "        print(models[i],':',str(f1score_comp[i]))"
   ]
  },
  {
   "cell_type": "code",
   "execution_count": 2114,
   "id": "f8399736",
   "metadata": {},
   "outputs": [
    {
     "data": {
      "text/plain": [
       "94.74"
      ]
     },
     "execution_count": 2114,
     "metadata": {},
     "output_type": "execute_result"
    }
   ],
   "source": [
    "max(accuracy_comp)"
   ]
  },
  {
   "cell_type": "code",
   "execution_count": 2115,
   "id": "4a7ba469",
   "metadata": {},
   "outputs": [
    {
     "data": {
      "text/plain": [
       "1.0"
      ]
     },
     "execution_count": 2115,
     "metadata": {},
     "output_type": "execute_result"
    }
   ],
   "source": [
    "max(precision_comp)"
   ]
  },
  {
   "cell_type": "code",
   "execution_count": 2116,
   "id": "4b802796",
   "metadata": {},
   "outputs": [
    {
     "data": {
      "text/plain": [
       "1.0"
      ]
     },
     "execution_count": 2116,
     "metadata": {},
     "output_type": "execute_result"
    }
   ],
   "source": [
    "max(recall_comp)"
   ]
  },
  {
   "cell_type": "code",
   "execution_count": 2117,
   "id": "111d124a",
   "metadata": {},
   "outputs": [
    {
     "data": {
      "text/plain": [
       "0.9444444444444444"
      ]
     },
     "execution_count": 2117,
     "metadata": {},
     "output_type": "execute_result"
    }
   ],
   "source": [
    "max(f1score_comp)"
   ]
  },
  {
   "cell_type": "markdown",
   "id": "8175d1cd",
   "metadata": {},
   "source": [
    "## \n",
    "# END OF PROJECT\n",
    "## "
   ]
  }
 ],
 "metadata": {
  "kernelspec": {
   "display_name": "Python 3 (ipykernel)",
   "language": "python",
   "name": "python3"
  },
  "language_info": {
   "codemirror_mode": {
    "name": "ipython",
    "version": 3
   },
   "file_extension": ".py",
   "mimetype": "text/x-python",
   "name": "python",
   "nbconvert_exporter": "python",
   "pygments_lexer": "ipython3",
   "version": "3.9.13"
  }
 },
 "nbformat": 4,
 "nbformat_minor": 5
}
